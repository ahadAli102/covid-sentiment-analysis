{
  "nbformat": 4,
  "nbformat_minor": 0,
  "metadata": {
    "colab": {
      "provenance": [],
      "authorship_tag": "ABX9TyO/qLOiLaCWssrP9Hgt8TpU",
      "include_colab_link": true
    },
    "kernelspec": {
      "name": "python3",
      "display_name": "Python 3"
    },
    "language_info": {
      "name": "python"
    }
  },
  "cells": [
    {
      "cell_type": "markdown",
      "metadata": {
        "id": "view-in-github",
        "colab_type": "text"
      },
      "source": [
        "<a href=\"https://colab.research.google.com/github/ahadAli102/covid-sentiment-analysis/blob/main/gru.ipynb\" target=\"_parent\"><img src=\"https://colab.research.google.com/assets/colab-badge.svg\" alt=\"Open In Colab\"/></a>"
      ]
    },
    {
      "cell_type": "code",
      "execution_count": null,
      "metadata": {
        "id": "1ouRQdS8rhnf"
      },
      "outputs": [],
      "source": [
        "import numpy as np\n",
        "import matplotlib.pyplot as plt\n",
        "%matplotlib inline\n",
        "import pandas as pd\n",
        "import seaborn as sns\n",
        "import re,nltk,json\n",
        "import tensorflow as tf\n",
        "from tensorflow import keras\n",
        "from tensorflow.keras import regularizers\n",
        "from tensorflow.keras.preprocessing.sequence import pad_sequences\n",
        "from keras import models\n",
        "from keras import layers\n",
        "from tensorflow.keras.layers import LSTM,GRU\n",
        "from tensorflow.keras.models import load_model\n",
        "from sklearn.metrics import confusion_matrix\n",
        "from sklearn.metrics import classification_report \n",
        "from sklearn.model_selection import train_test_split\n",
        "from sklearn.metrics import accuracy_score,precision_score,recall_score,f1_score,roc_auc_score\n",
        "from sklearn.metrics import average_precision_score,roc_auc_score, roc_curve, precision_recall_curve\n",
        "from sklearn.preprocessing import LabelEncoder\n",
        "from tensorflow.keras.preprocessing.text import Tokenizer\n",
        "np.random.seed(42)\n",
        "class color: # Text style\n",
        "   PURPLE = '\\033[95m'\n",
        "   CYAN = '\\033[96m'\n",
        "   DARKCYAN = '\\033[36m'\n",
        "   BLUE = '\\033[94m'\n",
        "   GREEN = '\\033[92m'\n",
        "   YELLOW = '\\033[93m'\n",
        "   RED = '\\033[91m'\n",
        "   BOLD = '\\033[1m'\n",
        "   UNDERLINE = '\\033[4m'\n",
        "   END = '\\033[0m'\n",
        "# dataset path\n",
        "path = '/content/drive/My Drive/Colab Notebooks/NLP Projects/sentiment/'"
      ]
    },
    {
      "cell_type": "code",
      "source": [
        "data = pd.read_csv('/content/data-collect - Copy.csv',encoding='utf-8')\n",
        "data = data.drop(range(0,100))\n",
        "print(f'Total number of headlines: {len(data)}')\n",
        "sns.set(font_scale=1.4)\n",
        "data['sentiment'].value_counts().plot(kind='barh', figsize=(6, 4))\n",
        "plt.xlabel(\"Number of Headlines\", labelpad=12)\n",
        "plt.ylabel(\"Sentiment\", labelpad=12)\n",
        "plt.yticks(rotation = 45)\n",
        "plt.title(\"Dataset Distribution\", y=1.02);"
      ],
      "metadata": {
        "colab": {
          "base_uri": "https://localhost:8080/",
          "height": 344
        },
        "id": "-LcbhuDssOl-",
        "outputId": "39b4c7a7-bd75-4041-dda5-168c24c44413"
      },
      "execution_count": null,
      "outputs": [
        {
          "output_type": "stream",
          "name": "stdout",
          "text": [
            "Total number of headlines: 1110\n"
          ]
        },
        {
          "output_type": "display_data",
          "data": {
            "text/plain": [
              "<Figure size 432x288 with 1 Axes>"
            ],
            "image/png": "[encoded data removed]"
          },
          "metadata": {}
        }
      ]
    },
    {
      "cell_type": "code",
      "source": [
        "data.columns"
      ],
      "metadata": {
        "colab": {
          "base_uri": "https://localhost:8080/"
        },
        "id": "SCsoB0BI4_V3",
        "outputId": "81c8055a-634d-447b-efcf-eb7f91118fd0"
      },
      "execution_count": null,
      "outputs": [
        {
          "output_type": "execute_result",
          "data": {
            "text/plain": [
              "Index(['comments', 'sentiment'], dtype='object')"
            ]
          },
          "metadata": {},
          "execution_count": 4
        }
      ]
    },
    {
      "cell_type": "code",
      "source": [
        "# Cleaning Data [Remove unncessary symbols]\n",
        "def cleaning_data(row):\n",
        "      comment = re.sub('[^\\u0980-\\u09FF]',' ',str(row)) #removing unnecessary punctuation\n",
        "      return comment\n",
        "# Apply the function into the dataframe\n",
        "data['cleaned'] = data['comments'].apply(cleaning_data)  \n",
        "\n",
        "# print some cleaned reviews from the dataset\n",
        "sample_data = [250,350]\n",
        "for i in sample_data:\n",
        "  print('Original: ',data.comments[i],'\\nCleaned:',\n",
        "           data.cleaned[i],'\\n','Category:-- ',data.sentiment[i],'\\n')  "
      ],
      "metadata": {
        "colab": {
          "base_uri": "https://localhost:8080/"
        },
        "id": "e5JCQRQm5A-I",
        "outputId": "87568afe-3936-4225-b9b9-bfe5acfa5a5e"
      },
      "execution_count": null,
      "outputs": [
        {
          "output_type": "stream",
          "name": "stdout",
          "text": [
            "Original:  ভারত টিকা ১টানা ১০ বছর সুরক্ষা দেয়, তাই সবাই ভারতের টিকা দিন \n",
            "Cleaned: ভারত টিকা ১টানা ১০ বছর সুরক্ষা দেয়  তাই সবাই ভারতের টিকা দিন \n",
            " Category:--  positive \n",
            "\n",
            "Original:  টিকা নিতে মন চায়না \n",
            "Cleaned: টিকা নিতে মন চায়না \n",
            " Category:--  negative \n",
            "\n"
          ]
        }
      ]
    },
    {
      "cell_type": "code",
      "source": [
        "data.drop(['sentiment'], axis=1)"
      ],
      "metadata": {
        "colab": {
          "base_uri": "https://localhost:8080/",
          "height": 424
        },
        "id": "81RVnGR5KHhH",
        "outputId": "69a62512-21c8-425b-99f0-f06e4c9b52db"
      },
      "execution_count": null,
      "outputs": [
        {
          "output_type": "execute_result",
          "data": {
            "text/plain": [
              "                                               comments  \\\n",
              "100   আমার পরিবারের সবাই নিবন্ধনের ২ মাসের মধ্যেই টি...   \n",
              "101   সরকার বিনামূল্যে টিকা দিচ্ছে অথচ এসব উজবুকরা এ...   \n",
              "102   ১ম ডোজ দিয়েছেন আজ প্রায় ৪ মাস হলো। ২য় ডোজ দেয়া...   \n",
              "103   ষাটোর্ধ্বদের মৃত্যুঝুঁকি বেশি। তাঁদের বিরাট অং...   \n",
              "104   এই টিকা নিলে এই হবে সেই হবে... পেট ব্যথায় মরে ...   \n",
              "...                                                 ...   \n",
              "1205       এদিকে টিকে নেওয়ায় শিশুর মৃত্যুর নিউজ পেলাম!    \n",
              "1206        আমি ১ম ডোজ নিয়েছি।আলহামদুলিল্লাহ সুস্থ আছি।   \n",
              "1207      টীকা নেওয়ার পরে আমার শরীরে ব্যথা দেখা দিয়েছে।   \n",
              "1208  কোনো পার্শ্ব প্রতিক্রিয়াই দেখলাম না প্রথম ডোজ ...   \n",
              "1209  সিনোফার্ম প্রথম ডোজ নেওয়ার পর দুইদিন হালকা হা...   \n",
              "\n",
              "                                                cleaned  \n",
              "100   আমার পরিবারের সবাই নিবন্ধনের ২ মাসের মধ্যেই টি...  \n",
              "101   সরকার বিনামূল্যে টিকা দিচ্ছে অথচ এসব উজবুকরা এ...  \n",
              "102   ১ম ডোজ দিয়েছেন আজ প্রায় ৪ মাস হলো  ২য় ডোজ দেয়া...  \n",
              "103   ষাটোর্ধ্বদের মৃত্যুঝুঁকি বেশি  তাঁদের বিরাট অং...  \n",
              "104   এই টিকা নিলে এই হবে সেই হবে    পেট ব্যথায় মরে ...  \n",
              "...                                                 ...  \n",
              "1205       এদিকে টিকে নেওয়ায় শিশুর মৃত্যুর নিউজ পেলাম    \n",
              "1206        আমি ১ম ডোজ নিয়েছি আলহামদুলিল্লাহ সুস্থ আছি   \n",
              "1207      টীকা নেওয়ার পরে আমার শরীরে ব্যথা দেখা দিয়েছে   \n",
              "1208  কোনো পার্শ্ব প্রতিক্রিয়াই দেখলাম না প্রথম ডোজ ...  \n",
              "1209  সিনোফার্ম প্রথম ডোজ নেওয়ার পর দুইদিন হালকা হা...  \n",
              "\n",
              "[1110 rows x 2 columns]"
            ],
            "text/html": [
              "\n",
              "  <div id=\"df-a3c4c45d-5740-4c14-868c-f78c4b1c9c0d\">\n",
              "    <div class=\"colab-df-container\">\n",
              "      <div>\n",
              "<style scoped>\n",
              "    .dataframe tbody tr th:only-of-type {\n",
              "        vertical-align: middle;\n",
              "    }\n",
              "\n",
              "    .dataframe tbody tr th {\n",
              "        vertical-align: top;\n",
              "    }\n",
              "\n",
              "    .dataframe thead th {\n",
              "        text-align: right;\n",
              "    }\n",
              "</style>\n",
              "<table border=\"1\" class=\"dataframe\">\n",
              "  <thead>\n",
              "    <tr style=\"text-align: right;\">\n",
              "      <th></th>\n",
              "      <th>comments</th>\n",
              "      <th>cleaned</th>\n",
              "    </tr>\n",
              "  </thead>\n",
              "  <tbody>\n",
              "    <tr>\n",
              "      <th>100</th>\n",
              "      <td>আমার পরিবারের সবাই নিবন্ধনের ২ মাসের মধ্যেই টি...</td>\n",
              "      <td>আমার পরিবারের সবাই নিবন্ধনের ২ মাসের মধ্যেই টি...</td>\n",
              "    </tr>\n",
              "    <tr>\n",
              "      <th>101</th>\n",
              "      <td>সরকার বিনামূল্যে টিকা দিচ্ছে অথচ এসব উজবুকরা এ...</td>\n",
              "      <td>সরকার বিনামূল্যে টিকা দিচ্ছে অথচ এসব উজবুকরা এ...</td>\n",
              "    </tr>\n",
              "    <tr>\n",
              "      <th>102</th>\n",
              "      <td>১ম ডোজ দিয়েছেন আজ প্রায় ৪ মাস হলো। ২য় ডোজ দেয়া...</td>\n",
              "      <td>১ম ডোজ দিয়েছেন আজ প্রায় ৪ মাস হলো  ২য় ডোজ দেয়া...</td>\n",
              "    </tr>\n",
              "    <tr>\n",
              "      <th>103</th>\n",
              "      <td>ষাটোর্ধ্বদের মৃত্যুঝুঁকি বেশি। তাঁদের বিরাট অং...</td>\n",
              "      <td>ষাটোর্ধ্বদের মৃত্যুঝুঁকি বেশি  তাঁদের বিরাট অং...</td>\n",
              "    </tr>\n",
              "    <tr>\n",
              "      <th>104</th>\n",
              "      <td>এই টিকা নিলে এই হবে সেই হবে... পেট ব্যথায় মরে ...</td>\n",
              "      <td>এই টিকা নিলে এই হবে সেই হবে    পেট ব্যথায় মরে ...</td>\n",
              "    </tr>\n",
              "    <tr>\n",
              "      <th>...</th>\n",
              "      <td>...</td>\n",
              "      <td>...</td>\n",
              "    </tr>\n",
              "    <tr>\n",
              "      <th>1205</th>\n",
              "      <td>এদিকে টিকে নেওয়ায় শিশুর মৃত্যুর নিউজ পেলাম!</td>\n",
              "      <td>এদিকে টিকে নেওয়ায় শিশুর মৃত্যুর নিউজ পেলাম</td>\n",
              "    </tr>\n",
              "    <tr>\n",
              "      <th>1206</th>\n",
              "      <td>আমি ১ম ডোজ নিয়েছি।আলহামদুলিল্লাহ সুস্থ আছি।</td>\n",
              "      <td>আমি ১ম ডোজ নিয়েছি আলহামদুলিল্লাহ সুস্থ আছি</td>\n",
              "    </tr>\n",
              "    <tr>\n",
              "      <th>1207</th>\n",
              "      <td>টীকা নেওয়ার পরে আমার শরীরে ব্যথা দেখা দিয়েছে।</td>\n",
              "      <td>টীকা নেওয়ার পরে আমার শরীরে ব্যথা দেখা দিয়েছে</td>\n",
              "    </tr>\n",
              "    <tr>\n",
              "      <th>1208</th>\n",
              "      <td>কোনো পার্শ্ব প্রতিক্রিয়াই দেখলাম না প্রথম ডোজ ...</td>\n",
              "      <td>কোনো পার্শ্ব প্রতিক্রিয়াই দেখলাম না প্রথম ডোজ ...</td>\n",
              "    </tr>\n",
              "    <tr>\n",
              "      <th>1209</th>\n",
              "      <td>সিনোফার্ম প্রথম ডোজ নেওয়ার পর দুইদিন হালকা হা...</td>\n",
              "      <td>সিনোফার্ম প্রথম ডোজ নেওয়ার পর দুইদিন হালকা হা...</td>\n",
              "    </tr>\n",
              "  </tbody>\n",
              "</table>\n",
              "<p>1110 rows × 2 columns</p>\n",
              "</div>\n",
              "      <button class=\"colab-df-convert\" onclick=\"convertToInteractive('df-a3c4c45d-5740-4c14-868c-f78c4b1c9c0d')\"\n",
              "              title=\"Convert this dataframe to an interactive table.\"\n",
              "              style=\"display:none;\">\n",
              "        \n",
              "  <svg xmlns=\"http://www.w3.org/2000/svg\" height=\"24px\"viewBox=\"0 0 24 24\"\n",
              "       width=\"24px\">\n",
              "    <path d=\"M0 0h24v24H0V0z\" fill=\"none\"/>\n",
              "    <path d=\"M18.56 5.44l.94 2.06.94-2.06 2.06-.94-2.06-.94-.94-2.06-.94 2.06-2.06.94zm-11 1L8.5 8.5l.94-2.06 2.06-.94-2.06-.94L8.5 2.5l-.94 2.06-2.06.94zm10 10l.94 2.06.94-2.06 2.06-.94-2.06-.94-.94-2.06-.94 2.06-2.06.94z\"/><path d=\"M17.41 7.96l-1.37-1.37c-.4-.4-.92-.59-1.43-.59-.52 0-1.04.2-1.43.59L10.3 9.45l-7.72 7.72c-.78.78-.78 2.05 0 2.83L4 21.41c.39.39.9.59 1.41.59.51 0 1.02-.2 1.41-.59l7.78-7.78 2.81-2.81c.8-.78.8-2.07 0-2.86zM5.41 20L4 18.59l7.72-7.72 1.47 1.35L5.41 20z\"/>\n",
              "  </svg>\n",
              "      </button>\n",
              "      \n",
              "  <style>\n",
              "    .colab-df-container {\n",
              "      display:flex;\n",
              "      flex-wrap:wrap;\n",
              "      gap: 12px;\n",
              "    }\n",
              "\n",
              "    .colab-df-convert {\n",
              "      background-color: #E8F0FE;\n",
              "      border: none;\n",
              "      border-radius: 50%;\n",
              "      cursor: pointer;\n",
              "      display: none;\n",
              "      fill: #1967D2;\n",
              "      height: 32px;\n",
              "      padding: 0 0 0 0;\n",
              "      width: 32px;\n",
              "    }\n",
              "\n",
              "    .colab-df-convert:hover {\n",
              "      background-color: #E2EBFA;\n",
              "      box-shadow: 0px 1px 2px rgba(60, 64, 67, 0.3), 0px 1px 3px 1px rgba(60, 64, 67, 0.15);\n",
              "      fill: #174EA6;\n",
              "    }\n",
              "\n",
              "    [theme=dark] .colab-df-convert {\n",
              "      background-color: #3B4455;\n",
              "      fill: #D2E3FC;\n",
              "    }\n",
              "\n",
              "    [theme=dark] .colab-df-convert:hover {\n",
              "      background-color: #434B5C;\n",
              "      box-shadow: 0px 1px 3px 1px rgba(0, 0, 0, 0.15);\n",
              "      filter: drop-shadow(0px 1px 2px rgba(0, 0, 0, 0.3));\n",
              "      fill: #FFFFFF;\n",
              "    }\n",
              "  </style>\n",
              "\n",
              "      <script>\n",
              "        const buttonEl =\n",
              "          document.querySelector('#df-a3c4c45d-5740-4c14-868c-f78c4b1c9c0d button.colab-df-convert');\n",
              "        buttonEl.style.display =\n",
              "          google.colab.kernel.accessAllowed ? 'block' : 'none';\n",
              "\n",
              "        async function convertToInteractive(key) {\n",
              "          const element = document.querySelector('#df-a3c4c45d-5740-4c14-868c-f78c4b1c9c0d');\n",
              "          const dataTable =\n",
              "            await google.colab.kernel.invokeFunction('convertToInteractive',\n",
              "                                                     [key], {});\n",
              "          if (!dataTable) return;\n",
              "\n",
              "          const docLinkHtml = 'Like what you see? Visit the ' +\n",
              "            '<a target=\"_blank\" href=https://colab.research.google.com/notebooks/data_table.ipynb>data table notebook</a>'\n",
              "            + ' to learn more about interactive tables.';\n",
              "          element.innerHTML = '';\n",
              "          dataTable['output_type'] = 'display_data';\n",
              "          await google.colab.output.renderOutput(dataTable, element);\n",
              "          const docLink = document.createElement('div');\n",
              "          docLink.innerHTML = docLinkHtml;\n",
              "          element.appendChild(docLink);\n",
              "        }\n",
              "      </script>\n",
              "    </div>\n",
              "  </div>\n",
              "  "
            ]
          },
          "metadata": {},
          "execution_count": 6
        }
      ]
    },
    {
      "cell_type": "code",
      "source": [
        "def data_summary(dataset):\n",
        "    \n",
        "    \"\"\"\n",
        "    This function will print the summary of the headlines and words distribution in the dataset. \n",
        "    \n",
        "    Args:\n",
        "        dataset: list of cleaned sentences   \n",
        "        \n",
        "    Returns:\n",
        "        Number of documnets per class: int \n",
        "        Number of words per class: int\n",
        "        Number of unique words per class: int\n",
        "    \"\"\"\n",
        "    documents = []\n",
        "    words = []\n",
        "    u_words = []\n",
        "    total_u_words = [word.strip().lower() for t in list(dataset.cleaned) for word in t.strip().split()]\n",
        "    class_label= [k for k,v in dataset.sentiment.value_counts().to_dict().items()]\n",
        "  # find word list\n",
        "    for label in class_label: \n",
        "        word_list = [word.strip().lower() for t in list(dataset[dataset.sentiment==label].cleaned) for word in t.strip().split()]\n",
        "        counts = dict()\n",
        "        for word in word_list:\n",
        "                counts[word] = counts.get(word, 0)+1\n",
        "        # sort the dictionary of word list  \n",
        "        ordered = sorted(counts.items(), key= lambda item: item[1],reverse = True)\n",
        "        # Documents per class\n",
        "        documents.append(len(list(dataset[dataset.sentiment==label].cleaned)))\n",
        "        # Total Word per class\n",
        "        words.append(len(word_list))\n",
        "        # Unique words per class \n",
        "        u_words.append(len(np.unique(word_list)))\n",
        "       \n",
        "        print(\"\\nClass Name : \",label)\n",
        "        print(\"Number of Documents:{}\".format(len(list(dataset[dataset.sentiment==label].cleaned))))  \n",
        "        print(\"Number of Words:{}\".format(len(word_list))) \n",
        "        print(\"Number of Unique Words:{}\".format(len(np.unique(word_list)))) \n",
        "        print(\"Most Frequent Words:\\n\")\n",
        "        for k,v in ordered[:10]:\n",
        "              print(\"{}\\t{}\".format(k,v))\n",
        "    print(\"Total Number of Unique Words:{}\".format(len(np.unique(total_u_words))))           \n",
        "   \n",
        "    return documents,words,u_words,class_label\n",
        "\n",
        "#call the fucntion\n",
        "documents,words,u_words,class_names = data_summary(data)   "
      ],
      "metadata": {
        "colab": {
          "base_uri": "https://localhost:8080/"
        },
        "id": "ccxWGFCv5YRV",
        "outputId": "164183f9-af0a-4652-f4ca-e4512778b034"
      },
      "execution_count": null,
      "outputs": [
        {
          "output_type": "stream",
          "name": "stdout",
          "text": [
            "\n",
            "Class Name :  negative\n",
            "Number of Documents:601\n",
            "Number of Words:5843\n",
            "Number of Unique Words:1728\n",
            "Most Frequent Words:\n",
            "\n",
            "টিকা\t530\n",
            "না\t150\n",
            "করোনা\t114\n",
            "নেওয়ার\t74\n",
            "টিকার\t68\n",
            "পর\t65\n",
            "আক্রান্ত\t61\n",
            "এই\t56\n",
            "আমি\t44\n",
            "মারা\t42\n",
            "\n",
            "Class Name :  positive\n",
            "Number of Documents:394\n",
            "Number of Words:4189\n",
            "Number of Unique Words:1390\n",
            "Most Frequent Words:\n",
            "\n",
            "টিকা\t363\n",
            "করোনা\t73\n",
            "হবে\t61\n",
            "না\t45\n",
            "আমি\t39\n",
            "টিকার\t37\n",
            "এই\t34\n",
            "কোন\t31\n",
            "নিলে\t29\n",
            "আমার\t28\n",
            "\n",
            "Class Name :  neutral\n",
            "Number of Documents:115\n",
            "Number of Words:1272\n",
            "Number of Unique Words:683\n",
            "Most Frequent Words:\n",
            "\n",
            "টিকা\t97\n",
            "না\t30\n",
            "করোনা\t23\n",
            "কি\t16\n",
            "টিকার\t14\n",
            "আর\t11\n",
            "করে\t10\n",
            "নিয়ে\t9\n",
            "নাকি\t9\n",
            "তা\t9\n",
            "Total Number of Unique Words:2798\n"
          ]
        }
      ]
    },
    {
      "cell_type": "code",
      "source": [
        "data_matrix = pd.DataFrame({'Total Documents':documents,\n",
        "                            'Total Words':words,\n",
        "                            'Unique Words':u_words,\n",
        "                            'Class Names':class_names})\n",
        "df = pd.melt(data_matrix, id_vars=\"Class Names\", var_name=\"sentiment\", value_name=\"Values\")\n",
        "plt.figure(figsize=(8, 6))\n",
        "ax = plt.subplot()\n",
        "\n",
        "sns.barplot(data=df,x='Class Names', y='Values' ,hue='sentiment')\n",
        "ax.set_xlabel('Class Names') \n",
        "ax.set_title('Data Statistics')\n",
        "\n",
        "ax.xaxis.set_ticklabels(class_names, rotation=45);"
      ],
      "metadata": {
        "colab": {
          "base_uri": "https://localhost:8080/",
          "height": 467
        },
        "id": "4zO0MqKF6QaG",
        "outputId": "97334716-d5dc-4ae3-c8de-d14b02bd91c4"
      },
      "execution_count": null,
      "outputs": [
        {
          "output_type": "display_data",
          "data": {
            "text/plain": [
              "<Figure size 576x432 with 1 Axes>"
            ],
            "image/png": "[encoded data removed]"
          },
          "metadata": {}
        }
      ]
    },
    {
      "cell_type": "code",
      "source": [
        "# Calculate the Review of each of the Review\n",
        "data['comments_length'] = data.cleaned.apply(lambda x:len(x.split()))\n",
        "frequency = dict()\n",
        "for i in data.comments_length:\n",
        "    frequency[i] = frequency.get(i, 0)+1\n",
        "\n",
        "plt.bar(frequency.keys(), frequency.values(), color =\"b\")\n",
        "plt.xlim(1, 20)\n",
        "# in this notbook color is not working but it should work.\n",
        "plt.xlabel('Length of the Headlines')\n",
        "plt.ylabel('Frequency')\n",
        "plt.title('Length-Frequency Distribution')\n",
        "plt.show()  \n",
        "print(f\"Maximum Length of a headline: {max(data.comments_length)}\")\n",
        "print(f\"Minimum Length of a headline: {min(data.comments_length)}\")\n",
        "print(f\"Average Length of a headline: {round(np.mean(data.comments_length),0)}\")"
      ],
      "metadata": {
        "colab": {
          "base_uri": "https://localhost:8080/",
          "height": 367
        },
        "id": "-uraPBNd6Wmn",
        "outputId": "46405228-a244-4497-faa3-ba377a3c7f1c"
      },
      "execution_count": null,
      "outputs": [
        {
          "output_type": "display_data",
          "data": {
            "text/plain": [
              "<Figure size 432x288 with 1 Axes>"
            ],
            "image/png": "[encoded data removed]"
          },
          "metadata": {}
        },
        {
          "output_type": "stream",
          "name": "stdout",
          "text": [
            "Maximum Length of a headline: 34\n",
            "Minimum Length of a headline: 2\n",
            "Average Length of a headline: 10.0\n"
          ]
        }
      ]
    },
    {
      "cell_type": "code",
      "source": [
        "def label_encoding(sentiment,bool):\n",
        "    \"\"\"\n",
        "    This function will return the encoded labels in array format. \n",
        "    \n",
        "    Args:\n",
        "        sentiment: series of class names(str)\n",
        "        bool: boolean (True or False)\n",
        "        \n",
        "    Returns:\n",
        "        labels: numpy array \n",
        "    \"\"\"\n",
        "    le = LabelEncoder()\n",
        "    le.fit(sentiment)\n",
        "    encoded_labels = le.transform(sentiment)\n",
        "    labels = np.array(encoded_labels) # Converting into numpy array\n",
        "    class_names =le.classes_ ## Define the class names again\n",
        "    if bool == True:\n",
        "        print(\"\\n\\t\\t\\t===== Label Encoding =====\",\"\\nClass Names:-->\",le.classes_)\n",
        "        for i in sample_data:\n",
        "            print(sentiment[i],' ', encoded_labels[i],'\\n')\n",
        "\n",
        "    return labels"
      ],
      "metadata": {
        "id": "jHFYjynp7Mcm"
      },
      "execution_count": null,
      "outputs": []
    },
    {
      "cell_type": "code",
      "source": [
        "def dataset_split(headlines,category):\n",
        "    \"\"\"\n",
        "    This function will return the splitted (90%-10%-10%) feature vector . \n",
        "    \n",
        "    Args:\n",
        "        headlines: sequenced headlines \n",
        "        category: encoded lables (array) \n",
        "        \n",
        "    Returns:\n",
        "        X_train: training data \n",
        "        X_valid: validation data\n",
        "        X_test : testing feature vector \n",
        "        y_train: training encoded labels (array) \n",
        "        y_valid: training encoded labels (array) \n",
        "        y_test : testing encoded labels (array) \n",
        "    \"\"\"\n",
        "    X,X_test,y,y_test = train_test_split(headlines,category,train_size = 0.9,\n",
        "                                                  test_size = 0.1,random_state =0)\n",
        "    X_train,X_valid,y_train,y_valid = train_test_split(X,y,train_size = 0.8,\n",
        "                                                  test_size = 0.2,random_state =0)\n",
        "    print(color.BOLD+\"\\nDataset Distribution:\\n\"+color.END)\n",
        "    print(\"\\tSet Name\",\"\\t\\tSize\")\n",
        "    print(\"\\t========\\t\\t======\")\n",
        "\n",
        "    print(\"\\tFull\\t\\t\\t\",len(headlines),\n",
        "        \"\\n\\tTraining\\t\\t\",len(X_train),\n",
        "        \"\\n\\tTest\\t\\t\\t\",len(X_test),\n",
        "        \"\\n\\tValidation\\t\\t\",len(X_valid))\n",
        "  \n",
        "    return X_train,X_valid,X_test,y_train,y_valid,y_test\n"
      ],
      "metadata": {
        "id": "iB-oJ6e47xyY"
      },
      "execution_count": null,
      "outputs": []
    },
    {
      "cell_type": "code",
      "source": [
        "labels = label_encoding(data.sentiment,True)"
      ],
      "metadata": {
        "id": "tCr-wAoF740o",
        "colab": {
          "base_uri": "https://localhost:8080/"
        },
        "outputId": "1ee26244-c3fb-4311-947c-8906ce3f8e4f"
      },
      "execution_count": null,
      "outputs": [
        {
          "output_type": "stream",
          "name": "stdout",
          "text": [
            "\n",
            "\t\t\t===== Label Encoding ===== \n",
            "Class Names:--> ['negative' 'neutral' 'positive']\n",
            "positive   0 \n",
            "\n",
            "negative   0 \n",
            "\n"
          ]
        }
      ]
    },
    {
      "cell_type": "code",
      "source": [
        "X_train,X_valid,X_test,y_train,y_valid,y_test = dataset_split(data.comments,labels)"
      ],
      "metadata": {
        "id": "ttbtcB2j7-IP",
        "colab": {
          "base_uri": "https://localhost:8080/"
        },
        "outputId": "b068e0fe-a18f-43ad-fe0a-5ffddd73e9c2"
      },
      "execution_count": null,
      "outputs": [
        {
          "output_type": "stream",
          "name": "stdout",
          "text": [
            "\u001b[1m\n",
            "Dataset Distribution:\n",
            "\u001b[0m\n",
            "\tSet Name \t\tSize\n",
            "\t========\t\t======\n",
            "\tFull\t\t\t 1110 \n",
            "\tTraining\t\t 799 \n",
            "\tTest\t\t\t 111 \n",
            "\tValidation\t\t 200\n"
          ]
        }
      ]
    },
    {
      "cell_type": "code",
      "source": [
        "vocab_size = 57000\n",
        "embedding_dim = 64\n",
        "max_length = 21\n",
        "trunc_type='post'\n",
        "padding_type='post'\n",
        "oov_tok = \"\"\n",
        "\n",
        "def padded_comment(original,encoded,padded):\n",
        "  '''\n",
        "  print the samples padded comment\n",
        "  '''\n",
        "  print(color.BOLD+\"\\n\\t\\t\\t====== Encoded Sequences ======\"+color.END,\"\\n\")  \n",
        "  print(original,\"\\n\",encoded) \n",
        "  print(color.BOLD+\"\\n\\t\\t\\t====== Paded Sequences ======\\n\"+color.END,original,\"\\n\",padded)  "
      ],
      "metadata": {
        "id": "NnWCF72N8H_o"
      },
      "execution_count": null,
      "outputs": []
    },
    {
      "cell_type": "code",
      "source": [
        "# Train Data Tokenization\n",
        "tokenizer = Tokenizer(num_words = vocab_size, oov_token=oov_tok)\n",
        "tokenizer.fit_on_texts(X_train)\n",
        "word_index = tokenizer.word_index\n",
        "train_sequences = tokenizer.texts_to_sequences(X_train)\n",
        "train_padded = pad_sequences(train_sequences, padding=padding_type, maxlen=max_length)"
      ],
      "metadata": {
        "id": "kzYg6-G28Msd"
      },
      "execution_count": null,
      "outputs": []
    },
    {
      "cell_type": "code",
      "source": [
        " #============================== Tokenizer Info =================================\n",
        "(word_counts,word_docs,word_index,document_count) = (tokenizer.word_counts,\n",
        "                                                       tokenizer.word_docs,\n",
        "                                                       tokenizer.word_index,\n",
        "                                                       tokenizer.document_count)\n",
        "def tokenizer_info(mylist,bool):\n",
        "  ordered = sorted(mylist.items(), key= lambda item: item[1],reverse = bool)\n",
        "  for w,c in ordered[:10]:\n",
        "    print(w,\"\\t\",c)\n",
        "  #=============================== Print all the information =========================\n",
        "print(color.BOLD+\"\\t\\t\\t====== Tokenizer Info ======\"+color.END)   \n",
        "print(\"Words --> Counts:\")\n",
        "tokenizer_info(word_counts,bool =True )\n",
        "print(\"\\nWords --> Documents:\")\n",
        "tokenizer_info(word_docs,bool =True )\n",
        "print(\"\\nWords --> Index:\")\n",
        "tokenizer_info(word_index,bool =True )    \n",
        "print(\"\\nTotal Documents -->\",document_count)\n",
        "print(f\"Found {len(word_index)} unique tokens\")"
      ],
      "metadata": {
        "id": "FTdM8dAn8P_L",
        "colab": {
          "base_uri": "https://localhost:8080/"
        },
        "outputId": "5e8c052a-3b6b-4194-d736-bee4e92ed949"
      },
      "execution_count": null,
      "outputs": [
        {
          "output_type": "stream",
          "name": "stdout",
          "text": [
            "\u001b[1m\t\t\t====== Tokenizer Info ======\u001b[0m\n",
            "Words --> Counts:\n",
            "টিকা \t 694\n",
            "করোনা \t 144\n",
            "না \t 135\n",
            "টিকার \t 81\n",
            "পর \t 74\n",
            "নেওয়ার \t 69\n",
            "এই \t 68\n",
            "আমি \t 65\n",
            "হবে \t 61\n",
            "আক্রান্ত \t 56\n",
            "\n",
            "Words --> Documents:\n",
            "টিকা \t 588\n",
            "করোনা \t 140\n",
            "না \t 120\n",
            "টিকার \t 79\n",
            "পর \t 73\n",
            "নেওয়ার \t 65\n",
            "এই \t 64\n",
            "আমি \t 60\n",
            "আক্রান্ত \t 54\n",
            "হবে \t 53\n",
            "\n",
            "Words --> Index:\n",
            "এসেই \t 2400\n",
            "দিব \t 2399\n",
            "দিয়েই \t 2398\n",
            "আমিতো \t 2397\n",
            "জনসন \t 2396\n",
            "আমেরিকার \t 2395\n",
            "রাশিয়ার \t 2394\n",
            "উঠিয়ে \t 2393\n",
            "উছিলায় \t 2392\n",
            "হয়ত \t 2391\n",
            "\n",
            "Total Documents --> 799\n",
            "Found 2400 unique tokens\n"
          ]
        }
      ]
    },
    {
      "cell_type": "code",
      "source": [
        "X_train"
      ],
      "metadata": {
        "colab": {
          "base_uri": "https://localhost:8080/"
        },
        "id": "oMt74KlCMeim",
        "outputId": "242284c1-c6a2-4ac6-d7b9-fb3203b36f27"
      },
      "execution_count": null,
      "outputs": [
        {
          "output_type": "execute_result",
          "data": {
            "text/plain": [
              "436     ছয় মাস পরে নাকি টিকার কার্যকারিতা কমে যায় তা...\n",
              "988     মানুষের হায়াত /রিযিক যতদিন আছে ততদিন ই বাঁচে। ...\n",
              "194     টিকা আসলে সেটার ব্যবস্থাপনাও ত্রাণের মত হয়ে যাবে।\n",
              "607     প্রথম ডোজ ফাইজার আর দ্বিতীয় ডোজ এস্ট্রাজেনিকা/...\n",
              "104     এই টিকা নিলে এই হবে সেই হবে... পেট ব্যথায় মরে ...\n",
              "                              ...                        \n",
              "1025                            আমিতো ভ্যাক্সিন নিবো ই না\n",
              "1175                      করোনা ভ্যাকসিন ওইটা দিয়েই দিব!!\n",
              "966                               টিকার উপর কোনো ভরসা নেই\n",
              "1083                                  টিকা না নিলে সমস্যা\n",
              "1128             টিকে নিতে এসেই করোনার সংক্রমণ নিয়ে যাবে!\n",
              "Name: comments, Length: 799, dtype: object"
            ]
          },
          "metadata": {},
          "execution_count": 17
        }
      ]
    },
    {
      "cell_type": "code",
      "source": [
        "# for /content/Sentimentdata - Copy.csv\n",
        "index = 684\n",
        "#padded_comment(X_train[index],train_sequences[index],train_padded[index]) "
      ],
      "metadata": {
        "id": "A1iX6J0X8ULP"
      },
      "execution_count": null,
      "outputs": []
    },
    {
      "cell_type": "code",
      "source": [
        "X_valid"
      ],
      "metadata": {
        "colab": {
          "base_uri": "https://localhost:8080/"
        },
        "id": "ZMbKz81CJs-U",
        "outputId": "bb196ece-99da-4d97-f92b-1bf963b10a1d"
      },
      "execution_count": null,
      "outputs": [
        {
          "output_type": "execute_result",
          "data": {
            "text/plain": [
              "904     টিকা নিলে যে করোনা হবে না তাতো না।টিকা তো করোন...\n",
              "1039                               আম জনতার টিকা লাগবে না\n",
              "375              টিকা নামে শরীরে জোর করে কী ঢুকিয়ে দিচ্ছে\n",
              "736            করোনা টিকার মূল চাবিকাঠি কাঁকড়ার নীল রক্ত\n",
              "223     জনগণকে টিকা দিতে হলে সেনাবাহিনী নামিয়ে দিতে বল...\n",
              "                              ...                        \n",
              "710     অল্প টিকা এগুলো প্রথমে সিনিয়র রাজনৈতিক নেতাদের...\n",
              "765     আমার ছেলেকে করোনা টিকা দেয়ালাম আমার অফিসের কয়ে...\n",
              "147     চিনা টিকার কার্যকারিতা কম।শেষে\\nদেশে দেখা যাবে...\n",
              "172     টিকা আনবে beximco সেই টিকা ১০০ গুন বেশি দাম দি...\n",
              "209              কারখানা হই অথবা গোডাউন তবুও টিকা নিব না।\n",
              "Name: comments, Length: 200, dtype: object"
            ]
          },
          "metadata": {},
          "execution_count": 19
        }
      ]
    },
    {
      "cell_type": "code",
      "source": [
        "# Validation Data Tokenization for /content/Sentimentdata - Copy.csv\n",
        "index = 172\n",
        "validation_sequences = tokenizer.texts_to_sequences(X_valid)\n",
        "validation_padded = pad_sequences(validation_sequences, padding=padding_type , maxlen=max_length)\n",
        "#padded_comment(X_valid[index],validation_sequences[index],validation_padded[index]) "
      ],
      "metadata": {
        "id": "C0nIidri8YJ5"
      },
      "execution_count": null,
      "outputs": []
    },
    {
      "cell_type": "code",
      "source": [
        "X_test"
      ],
      "metadata": {
        "colab": {
          "base_uri": "https://localhost:8080/"
        },
        "id": "1GgmCyqBM4Yk",
        "outputId": "9320f8da-1497-42d6-fcfe-b8d6f0bb6fd5"
      },
      "execution_count": null,
      "outputs": [
        {
          "output_type": "execute_result",
          "data": {
            "text/plain": [
              "713     প্রধানমন্ত্রী সহ সকল মন্ত্রীদের প্রকাশ্যে টিকা...\n",
              "1084                        টিকা নিয়েও বা কি বাল হচ্ছে? \n",
              "1195                         সিনোফার্মেরটাই বেশি কার্যকর।\n",
              "594     টিকার সাইডএফেক্টে অনেকে মারা যাচ্ছে, ফ্রান্স, ...\n",
              "841     আগে করোনার সকল ধরনের বেরিয়ে নিক , তারপর আমি ফ...\n",
              "                              ...                        \n",
              "543                 সারা পৃথিবী ভাপছে এই টিকার সফলতা নিয়ে\n",
              "786     এই করোনা টিকা সম্পূর্ণ নিরাপদ।যদি কারো মৃত্যু ...\n",
              "525     টিকা নিয়ে নিজে সুস্থ থাকি বাকি সব কিছু আল্লাহর...\n",
              "932     স্যালাইনের পানি টিকা হিসাবে ব্যবহার করলে এমন হবেই\n",
              "368     প্রতিটি টীকা সফল হউক।।বৈশ্বিক এই মহামারীতে তড়ি...\n",
              "Name: comments, Length: 111, dtype: object"
            ]
          },
          "metadata": {},
          "execution_count": 21
        }
      ]
    },
    {
      "cell_type": "code",
      "source": [
        "# Test Data Tokenization\n",
        "index = 70\n",
        "test_sequences = tokenizer.texts_to_sequences(X_test)\n",
        "test_padded = pad_sequences(test_sequences, padding=padding_type , maxlen=max_length)\n",
        "#padded_comment(X_test[index],test_sequences[index],test_padded[index]) "
      ],
      "metadata": {
        "id": "BdXdKaSAJaTc"
      },
      "execution_count": null,
      "outputs": []
    },
    {
      "cell_type": "code",
      "source": [
        "train_label_seq = y_train\n",
        "valid_label_seq = y_valid\n",
        "testing_label_seq = y_test"
      ],
      "metadata": {
        "id": "JnwLCU2j_0sa"
      },
      "execution_count": null,
      "outputs": []
    },
    {
      "cell_type": "code",
      "source": [
        "keras.backend.clear_session()\n",
        "accuracy_threshold = 1.0\n",
        "vocab_size = 57000\n",
        "embedding_dim = 64\n",
        "max_length = 21\n",
        "num_category = 6\n",
        "\n",
        "class myCallback(keras.callbacks.Callback):\n",
        "  def on_epoch_end(self, epoch, logs={}):\n",
        "      if(logs.get('accuracy')>accuracy_threshold):\n",
        "        print(\"\\nReached %2.2f%% accuracy so we will stop trianing\" % (accuracy_threshold*100))\n",
        "        self.model.stop_training = True\n",
        "\n",
        "acc_callback = myCallback()\n",
        "# Saved the Best Model\n",
        "filepath = path+\"Model.h5\"\n",
        "checkpoint = keras.callbacks.ModelCheckpoint(filepath, monitor='val_accuracy', verbose=2, save_best_only=True, \n",
        "                                             save_weights_only=False, mode='max')\n",
        "callback_list = [acc_callback, checkpoint] \n",
        "model = tf.keras.Sequential([\n",
        "    tf.keras.layers.Embedding(vocab_size, embedding_dim, input_length=max_length),\n",
        "    tf.keras.layers.Bidirectional(GRU(64,dropout=0.2)),\n",
        "    tf.keras.layers.Dense(24, activation='relu'),\n",
        "    tf.keras.layers.Flatten(),\n",
        "    tf.keras.layers.Dense(num_category, activation='softmax')\n",
        "])\n",
        "model.compile(loss='sparse_categorical_crossentropy',optimizer='adam',metrics=['accuracy'])\n",
        "model.summary()"
      ],
      "metadata": {
        "id": "E4v_OjEy_5J0",
        "colab": {
          "base_uri": "https://localhost:8080/"
        },
        "outputId": "a0539e90-a8cb-483c-a6cc-f068dc37dcda"
      },
      "execution_count": null,
      "outputs": [
        {
          "output_type": "stream",
          "name": "stdout",
          "text": [
            "Model: \"sequential\"\n",
            "_________________________________________________________________\n",
            " Layer (type)                Output Shape              Param #   \n",
            "=================================================================\n",
            " embedding (Embedding)       (None, 21, 64)            3648000   \n",
            "                                                                 \n",
            " bidirectional (Bidirectiona  (None, 128)              49920     \n",
            " l)                                                              \n",
            "                                                                 \n",
            " dense (Dense)               (None, 24)                3096      \n",
            "                                                                 \n",
            " flatten (Flatten)           (None, 24)                0         \n",
            "                                                                 \n",
            " dense_1 (Dense)             (None, 6)                 150       \n",
            "                                                                 \n",
            "=================================================================\n",
            "Total params: 3,701,166\n",
            "Trainable params: 3,701,166\n",
            "Non-trainable params: 0\n",
            "_________________________________________________________________\n"
          ]
        }
      ]
    },
    {
      "cell_type": "code",
      "source": [
        "num_epochs = 10\n",
        "batch = 64\n",
        "history = model.fit(train_padded, train_label_seq, \n",
        "                    epochs=num_epochs,\n",
        "                    batch_size = batch,\n",
        "                    validation_data=(validation_padded, valid_label_seq), \n",
        "                    verbose=1,\n",
        "                    callbacks = callback_list)"
      ],
      "metadata": {
        "id": "dDfj9qGAACa8",
        "colab": {
          "base_uri": "https://localhost:8080/"
        },
        "outputId": "8aa8eeee-7ea0-495f-de14-3ff7bc872af6"
      },
      "execution_count": null,
      "outputs": [
        {
          "output_type": "stream",
          "name": "stdout",
          "text": [
            "Epoch 1/10\n",
            "13/13 [==============================] - ETA: 0s - loss: 1.7213 - accuracy: 0.5332\n",
            "Epoch 1: val_accuracy improved from -inf to 0.50000, saving model to /content/drive/My Drive/Colab Notebooks/NLP Projects/sentiment/Model.h5\n",
            "13/13 [==============================] - 11s 148ms/step - loss: 1.7213 - accuracy: 0.5332 - val_loss: 1.6145 - val_accuracy: 0.5000\n",
            "Epoch 2/10\n",
            "13/13 [==============================] - ETA: 0s - loss: 1.4237 - accuracy: 0.5544\n",
            "Epoch 2: val_accuracy did not improve from 0.50000\n",
            "13/13 [==============================] - 1s 68ms/step - loss: 1.4237 - accuracy: 0.5544 - val_loss: 1.2768 - val_accuracy: 0.5000\n",
            "Epoch 3/10\n",
            "13/13 [==============================] - ETA: 0s - loss: 1.0905 - accuracy: 0.4869\n",
            "Epoch 3: val_accuracy improved from 0.50000 to 0.50500, saving model to /content/drive/My Drive/Colab Notebooks/NLP Projects/sentiment/Model.h5\n",
            "13/13 [==============================] - 1s 78ms/step - loss: 1.0905 - accuracy: 0.4869 - val_loss: 1.0460 - val_accuracy: 0.5050\n",
            "Epoch 4/10\n",
            "13/13 [==============================] - ETA: 0s - loss: 0.9849 - accuracy: 0.5557\n",
            "Epoch 4: val_accuracy did not improve from 0.50500\n",
            "13/13 [==============================] - 1s 69ms/step - loss: 0.9849 - accuracy: 0.5557 - val_loss: 1.0187 - val_accuracy: 0.5000\n",
            "Epoch 5/10\n",
            "13/13 [==============================] - ETA: 0s - loss: 0.8842 - accuracy: 0.5594\n",
            "Epoch 5: val_accuracy improved from 0.50500 to 0.54000, saving model to /content/drive/My Drive/Colab Notebooks/NLP Projects/sentiment/Model.h5\n",
            "13/13 [==============================] - 1s 79ms/step - loss: 0.8842 - accuracy: 0.5594 - val_loss: 0.9265 - val_accuracy: 0.5400\n",
            "Epoch 6/10\n",
            "13/13 [==============================] - ETA: 0s - loss: 0.7234 - accuracy: 0.7121\n",
            "Epoch 6: val_accuracy improved from 0.54000 to 0.64500, saving model to /content/drive/My Drive/Colab Notebooks/NLP Projects/sentiment/Model.h5\n",
            "13/13 [==============================] - 1s 78ms/step - loss: 0.7234 - accuracy: 0.7121 - val_loss: 0.8968 - val_accuracy: 0.6450\n",
            "Epoch 7/10\n",
            "13/13 [==============================] - ETA: 0s - loss: 0.5442 - accuracy: 0.8073\n",
            "Epoch 7: val_accuracy improved from 0.64500 to 0.65000, saving model to /content/drive/My Drive/Colab Notebooks/NLP Projects/sentiment/Model.h5\n",
            "13/13 [==============================] - 1s 78ms/step - loss: 0.5442 - accuracy: 0.8073 - val_loss: 0.8319 - val_accuracy: 0.6500\n",
            "Epoch 8/10\n",
            "13/13 [==============================] - ETA: 0s - loss: 0.4470 - accuracy: 0.8385\n",
            "Epoch 8: val_accuracy improved from 0.65000 to 0.68000, saving model to /content/drive/My Drive/Colab Notebooks/NLP Projects/sentiment/Model.h5\n",
            "13/13 [==============================] - 1s 79ms/step - loss: 0.4470 - accuracy: 0.8385 - val_loss: 0.8815 - val_accuracy: 0.6800\n",
            "Epoch 9/10\n",
            "13/13 [==============================] - ETA: 0s - loss: 0.3435 - accuracy: 0.8648\n",
            "Epoch 9: val_accuracy did not improve from 0.68000\n",
            "13/13 [==============================] - 1s 66ms/step - loss: 0.3435 - accuracy: 0.8648 - val_loss: 0.9485 - val_accuracy: 0.6700\n",
            "Epoch 10/10\n",
            "13/13 [==============================] - ETA: 0s - loss: 0.2778 - accuracy: 0.8836\n",
            "Epoch 10: val_accuracy did not improve from 0.68000\n",
            "13/13 [==============================] - 1s 65ms/step - loss: 0.2778 - accuracy: 0.8836 - val_loss: 1.0058 - val_accuracy: 0.6750\n"
          ]
        }
      ]
    },
    {
      "cell_type": "code",
      "source": [
        "plt.title('GRU:Loss and accuracy')\n",
        "plt.plot(history.history['accuracy'])\n",
        "plt.plot(history.history['loss'])\n",
        "plt.legend(['accuracy', 'loss'])\n",
        "plt.show()"
      ],
      "metadata": {
        "colab": {
          "base_uri": "https://localhost:8080/",
          "height": 293
        },
        "id": "yhIwLfznYwyO",
        "outputId": "f98f4a70-0f83-4bd9-bb89-77bc61e03ff0"
      },
      "execution_count": null,
      "outputs": [
        {
          "output_type": "display_data",
          "data": {
            "text/plain": [
              "<Figure size 432x288 with 1 Axes>"
            ],
            "image/png": "[encoded data removed]"
          },
          "metadata": {}
        }
      ]
    },
    {
      "cell_type": "code",
      "source": [
        "plt.title('GRU:val_loss and val_accuracy')\n",
        "plt.plot(history.history['val_loss'])\n",
        "plt.plot(history.history['val_accuracy'])\n",
        "plt.legend(['val_loss', 'val_accuracy'])\n",
        "plt.show()"
      ],
      "metadata": {
        "colab": {
          "base_uri": "https://localhost:8080/",
          "height": 293
        },
        "id": "wcdCvjmeXJ7n",
        "outputId": "4787a058-fada-47d2-de4d-b1c0eb57919d"
      },
      "execution_count": null,
      "outputs": [
        {
          "output_type": "display_data",
          "data": {
            "text/plain": [
              "<Figure size 432x288 with 1 Axes>"
            ],
            "image/png": "[encoded data removed]"
          },
          "metadata": {}
        }
      ]
    },
    {
      "cell_type": "code",
      "source": [
        "plt.title('GRU:accuracy and val_accuracy')\n",
        "plt.plot(history.history['accuracy'])\n",
        "plt.plot(history.history['val_accuracy'])\n",
        "plt.legend(['accuracy', 'val_accuracy'])\n",
        "plt.show()"
      ],
      "metadata": {
        "colab": {
          "base_uri": "https://localhost:8080/",
          "height": 293
        },
        "id": "K5twqclIY9-b",
        "outputId": "bd193623-ddc2-4cb2-b2c6-4edf5995a900"
      },
      "execution_count": null,
      "outputs": [
        {
          "output_type": "display_data",
          "data": {
            "text/plain": [
              "<Figure size 432x288 with 1 Axes>"
            ],
            "image/png": "[encoded data removed]"
          },
          "metadata": {}
        }
      ]
    },
    {
      "cell_type": "code",
      "source": [
        "plt.title('CRU:loss and val_loss')\n",
        "plt.plot(history.history['loss'])\n",
        "plt.plot(history.history['val_loss'])\n",
        "plt.legend(['loss', 'val_loss'])\n",
        "plt.show()"
      ],
      "metadata": {
        "colab": {
          "base_uri": "https://localhost:8080/",
          "height": 293
        },
        "id": "YEEv63EDXKw9",
        "outputId": "c3bb0d0b-e71f-4adb-c9c6-5b971776c51c"
      },
      "execution_count": null,
      "outputs": [
        {
          "output_type": "display_data",
          "data": {
            "text/plain": [
              "<Figure size 432x288 with 1 Axes>"
            ],
            "image/png": "[encoded data removed]"
          },
          "metadata": {}
        }
      ]
    },
    {
      "cell_type": "code",
      "source": [
        "from sklearn.metrics import classification_report, confusion_matrix\n",
        "# load the Saved model from directory\n",
        "# model = load_model(path+\"Model.h5\")\n",
        "# predictions = model.predict(test_padded)\n",
        "# y_pred = np.argmax(predictions, axis=1)\n",
        "\n",
        "# cm = confusion_matrix(testing_label_seq, y_pred) \n",
        "\n",
        "# # Transform to df for easier plotting\n",
        "# cm_df = pd.DataFrame(cm,\n",
        "                     \n",
        "#                      index = ['negative' , 'neutral' , 'positive'], \n",
        "#                      columns = ['negative' , 'neutral' , 'positive'])\n",
        "\n",
        "# plt.figure(figsize=(8,6))\n",
        "# sns.heatmap(cm_df, annot=True,cmap=\"YlGnBu\", fmt='g')\n",
        "# plt.title('GRU \\nAccuracy: {0:.2f}'.format(accuracy_score(testing_label_seq, y_pred)*100))\n",
        "# plt.ylabel('True label')\n",
        "# plt.xlabel('Predicted label')\n",
        "# plt.xticks(rotation = 45)\n",
        "# plt.yticks(rotation = 45)\n",
        "# plt.show()"
      ],
      "metadata": {
        "id": "j50GaANNRZh7"
      },
      "execution_count": null,
      "outputs": []
    },
    {
      "cell_type": "code",
      "source": [
        "print('GRU')\n",
        "print('Accuracy: {0:.2f}'.format(np.max(history.history['accuracy'])*100))\n",
        "print('loss: {0:.2f}'.format(np.min(history.history['loss'])))\n",
        "print('val_accuracy: {0:.2f}'.format(np.max(history.history['val_accuracy'])*100))\n",
        "print('val_loss: {0:.2f}'.format(np.min(history.history['val_loss'])))"
      ],
      "metadata": {
        "colab": {
          "base_uri": "https://localhost:8080/"
        },
        "id": "bBBxbyFk4POA",
        "outputId": "ee8b820f-073a-4978-d196-9a64807e6abd"
      },
      "execution_count": null,
      "outputs": [
        {
          "output_type": "stream",
          "name": "stdout",
          "text": [
            "GRU\n",
            "Accuracy: 88.36\n",
            "loss: 0.28\n",
            "val_accuracy: 68.00\n",
            "val_loss: 0.83\n"
          ]
        }
      ]
    },
    {
      "cell_type": "code",
      "source": [
        "for i in history.history['accuracy']:\n",
        "  print(f'{i:.4f} ')"
      ],
      "metadata": {
        "colab": {
          "base_uri": "https://localhost:8080/"
        },
        "id": "ZcJshrDHqwaR",
        "outputId": "e661fb30-d7a4-4da4-9cb2-015c478af00f"
      },
      "execution_count": null,
      "outputs": [
        {
          "output_type": "stream",
          "name": "stdout",
          "text": [
            "0.5332 \n",
            "0.5544 \n",
            "0.4869 \n",
            "0.5557 \n",
            "0.5594 \n",
            "0.7121 \n",
            "0.8073 \n",
            "0.8385 \n",
            "0.8648 \n",
            "0.8836 \n"
          ]
        }
      ]
    },
    {
      "cell_type": "code",
      "source": [
        "for i in history.history['loss']:\n",
        "  print(f'{i:.4f} ')"
      ],
      "metadata": {
        "colab": {
          "base_uri": "https://localhost:8080/"
        },
        "id": "K9nBgKWQq3l3",
        "outputId": "ad564620-19e4-4da6-ef86-158848fa9a03"
      },
      "execution_count": null,
      "outputs": [
        {
          "output_type": "stream",
          "name": "stdout",
          "text": [
            "1.7213 \n",
            "1.4237 \n",
            "1.0905 \n",
            "0.9849 \n",
            "0.8842 \n",
            "0.7234 \n",
            "0.5442 \n",
            "0.4470 \n",
            "0.3435 \n",
            "0.2778 \n"
          ]
        }
      ]
    },
    {
      "cell_type": "code",
      "source": [
        "for i in history.history['val_accuracy']:\n",
        "  print(f'{i:.4f} ')"
      ],
      "metadata": {
        "colab": {
          "base_uri": "https://localhost:8080/"
        },
        "id": "9Bxu_gfAq5co",
        "outputId": "36b878a3-c47c-4da9-e43a-31cc7f4281de"
      },
      "execution_count": null,
      "outputs": [
        {
          "output_type": "stream",
          "name": "stdout",
          "text": [
            "0.5000 \n",
            "0.5000 \n",
            "0.5050 \n",
            "0.5000 \n",
            "0.5400 \n",
            "0.6450 \n",
            "0.6500 \n",
            "0.6800 \n",
            "0.6700 \n",
            "0.6750 \n"
          ]
        }
      ]
    },
    {
      "cell_type": "code",
      "source": [
        "for i in history.history['val_loss']:\n",
        "  print(f'{i:.4f} ')"
      ],
      "metadata": {
        "colab": {
          "base_uri": "https://localhost:8080/"
        },
        "id": "2iqxmdQKq7sW",
        "outputId": "b66c826e-ba70-49d0-b158-9495d68a5c12"
      },
      "execution_count": null,
      "outputs": [
        {
          "output_type": "stream",
          "name": "stdout",
          "text": [
            "1.6145 \n",
            "1.2768 \n",
            "1.0460 \n",
            "1.0187 \n",
            "0.9265 \n",
            "0.8968 \n",
            "0.8319 \n",
            "0.8815 \n",
            "0.9485 \n",
            "1.0058 \n"
          ]
        }
      ]
    }
  ]
}