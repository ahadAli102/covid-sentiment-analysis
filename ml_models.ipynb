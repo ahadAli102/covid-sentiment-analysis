{
  "nbformat": 4,
  "nbformat_minor": 0,
  "metadata": {
    "colab": {
      "provenance": [],
      "include_colab_link": true
    },
    "kernelspec": {
      "name": "python3",
      "display_name": "Python 3"
    },
    "language_info": {
      "name": "python"
    }
  },
  "cells": [
    {
      "cell_type": "markdown",
      "metadata": {
        "id": "view-in-github",
        "colab_type": "text"
      },
      "source": [
        "<a href=\"https://colab.research.google.com/github/ahadAli102/covid-sentiment-analysis/blob/main/ml_models.ipynb\" target=\"_parent\"><img src=\"https://colab.research.google.com/assets/colab-badge.svg\" alt=\"Open In Colab\"/></a>"
      ]
    },
    {
      "cell_type": "markdown",
      "metadata": {
        "id": "TdaYVZP5PHtZ"
      },
      "source": [
        "Libraries"
      ]
    },
    {
      "cell_type": "code",
      "metadata": {
        "id": "9AxDi7mPf6-n"
      },
      "source": [
        "import numpy as np\n",
        "import pandas as pd\n",
        "import matplotlib.pyplot as plt\n",
        "%matplotlib inline\n",
        "import seaborn as sns\n",
        "import re,json,nltk\n",
        "from sklearn.preprocessing import LabelEncoder\n",
        "from sklearn.feature_extraction.text import TfidfVectorizer\n",
        "from sklearn.model_selection import train_test_split\n",
        "from sklearn.metrics import classification_report,accuracy_score,precision_score,recall_score,f1_score\n",
        "test_file ='/content/data-collect - Copy.csv'\n",
        "class color: # Text style\n",
        "   PURPLE = '\\033[95m'\n",
        "   CYAN = '\\033[96m'\n",
        "   DARKCYAN = '\\033[36m'\n",
        "   BLUE = '\\033[94m'\n",
        "   GREEN = '\\033[92m'\n",
        "   YELLOW = '\\033[93m'\n",
        "   RED = '\\033[91m'\n",
        "   BOLD = '\\033[1m'\n",
        "   UNDERLINE = '\\033[4m'\n",
        "   END = '\\033[0m'"
      ],
      "execution_count": null,
      "outputs": []
    },
    {
      "cell_type": "code",
      "metadata": {
        "colab": {
          "base_uri": "https://localhost:8080/",
          "height": 363
        },
        "id": "rEx5zSTPQUXx",
        "outputId": "0f20b56d-6651-4957-886d-41fd85578e7d"
      },
      "source": [
        "data = pd.read_csv(test_file, skipinitialspace=True, engine=\"python\")\n",
        "data = data.drop(range(0,100))\n",
        "data.head(10)"
      ],
      "execution_count": null,
      "outputs": [
        {
          "output_type": "execute_result",
          "data": {
            "text/plain": [
              "                                              comments sentiment\n",
              "100  আমার পরিবারের সবাই নিবন্ধনের ২ মাসের মধ্যেই টি...  positive\n",
              "101  সরকার বিনামূল্যে টিকা দিচ্ছে অথচ এসব উজবুকরা এ...  positive\n",
              "102  ১ম ডোজ দিয়েছেন আজ প্রায় ৪ মাস হলো। ২য় ডোজ দেয়া...  negative\n",
              "103  ষাটোর্ধ্বদের মৃত্যুঝুঁকি বেশি। তাঁদের বিরাট অং...   neutral\n",
              "104  এই টিকা নিলে এই হবে সেই হবে... পেট ব্যথায় মরে ...  positive\n",
              "105  টিকা নিয়ে আসলো,নাকি অন্যকোনো ভাইরাস নিয়া আসছে ...   neutral\n",
              "106  যারা এ টিকা গ্রহণ করবে তাদের করোনা থাকবে না কা...  positive\n",
              "107       ডোজ নিলে হয়তো করোনার থেকে রক্ষা পাওয়া যাবে.   positive\n",
              "108  মিটফোর্ড এলাকাতে নকল টিকা বানানোর প্রতিযোগিতা ...  negative\n",
              "109  করোনার টিকা নকল হলেইতো নকলকারীরই লোকসান হবে। ক...  negative"
            ],
            "text/html": [
              "\n",
              "  <div id=\"df-90f9391c-1048-471b-ac9b-f6cf1d1c4571\">\n",
              "    <div class=\"colab-df-container\">\n",
              "      <div>\n",
              "<style scoped>\n",
              "    .dataframe tbody tr th:only-of-type {\n",
              "        vertical-align: middle;\n",
              "    }\n",
              "\n",
              "    .dataframe tbody tr th {\n",
              "        vertical-align: top;\n",
              "    }\n",
              "\n",
              "    .dataframe thead th {\n",
              "        text-align: right;\n",
              "    }\n",
              "</style>\n",
              "<table border=\"1\" class=\"dataframe\">\n",
              "  <thead>\n",
              "    <tr style=\"text-align: right;\">\n",
              "      <th></th>\n",
              "      <th>comments</th>\n",
              "      <th>sentiment</th>\n",
              "    </tr>\n",
              "  </thead>\n",
              "  <tbody>\n",
              "    <tr>\n",
              "      <th>100</th>\n",
              "      <td>আমার পরিবারের সবাই নিবন্ধনের ২ মাসের মধ্যেই টি...</td>\n",
              "      <td>positive</td>\n",
              "    </tr>\n",
              "    <tr>\n",
              "      <th>101</th>\n",
              "      <td>সরকার বিনামূল্যে টিকা দিচ্ছে অথচ এসব উজবুকরা এ...</td>\n",
              "      <td>positive</td>\n",
              "    </tr>\n",
              "    <tr>\n",
              "      <th>102</th>\n",
              "      <td>১ম ডোজ দিয়েছেন আজ প্রায় ৪ মাস হলো। ২য় ডোজ দেয়া...</td>\n",
              "      <td>negative</td>\n",
              "    </tr>\n",
              "    <tr>\n",
              "      <th>103</th>\n",
              "      <td>ষাটোর্ধ্বদের মৃত্যুঝুঁকি বেশি। তাঁদের বিরাট অং...</td>\n",
              "      <td>neutral</td>\n",
              "    </tr>\n",
              "    <tr>\n",
              "      <th>104</th>\n",
              "      <td>এই টিকা নিলে এই হবে সেই হবে... পেট ব্যথায় মরে ...</td>\n",
              "      <td>positive</td>\n",
              "    </tr>\n",
              "    <tr>\n",
              "      <th>105</th>\n",
              "      <td>টিকা নিয়ে আসলো,নাকি অন্যকোনো ভাইরাস নিয়া আসছে ...</td>\n",
              "      <td>neutral</td>\n",
              "    </tr>\n",
              "    <tr>\n",
              "      <th>106</th>\n",
              "      <td>যারা এ টিকা গ্রহণ করবে তাদের করোনা থাকবে না কা...</td>\n",
              "      <td>positive</td>\n",
              "    </tr>\n",
              "    <tr>\n",
              "      <th>107</th>\n",
              "      <td>ডোজ নিলে হয়তো করোনার থেকে রক্ষা পাওয়া যাবে.</td>\n",
              "      <td>positive</td>\n",
              "    </tr>\n",
              "    <tr>\n",
              "      <th>108</th>\n",
              "      <td>মিটফোর্ড এলাকাতে নকল টিকা বানানোর প্রতিযোগিতা ...</td>\n",
              "      <td>negative</td>\n",
              "    </tr>\n",
              "    <tr>\n",
              "      <th>109</th>\n",
              "      <td>করোনার টিকা নকল হলেইতো নকলকারীরই লোকসান হবে। ক...</td>\n",
              "      <td>negative</td>\n",
              "    </tr>\n",
              "  </tbody>\n",
              "</table>\n",
              "</div>\n",
              "      <button class=\"colab-df-convert\" onclick=\"convertToInteractive('df-90f9391c-1048-471b-ac9b-f6cf1d1c4571')\"\n",
              "              title=\"Convert this dataframe to an interactive table.\"\n",
              "              style=\"display:none;\">\n",
              "        \n",
              "  <svg xmlns=\"http://www.w3.org/2000/svg\" height=\"24px\"viewBox=\"0 0 24 24\"\n",
              "       width=\"24px\">\n",
              "    <path d=\"M0 0h24v24H0V0z\" fill=\"none\"/>\n",
              "    <path d=\"M18.56 5.44l.94 2.06.94-2.06 2.06-.94-2.06-.94-.94-2.06-.94 2.06-2.06.94zm-11 1L8.5 8.5l.94-2.06 2.06-.94-2.06-.94L8.5 2.5l-.94 2.06-2.06.94zm10 10l.94 2.06.94-2.06 2.06-.94-2.06-.94-.94-2.06-.94 2.06-2.06.94z\"/><path d=\"M17.41 7.96l-1.37-1.37c-.4-.4-.92-.59-1.43-.59-.52 0-1.04.2-1.43.59L10.3 9.45l-7.72 7.72c-.78.78-.78 2.05 0 2.83L4 21.41c.39.39.9.59 1.41.59.51 0 1.02-.2 1.41-.59l7.78-7.78 2.81-2.81c.8-.78.8-2.07 0-2.86zM5.41 20L4 18.59l7.72-7.72 1.47 1.35L5.41 20z\"/>\n",
              "  </svg>\n",
              "      </button>\n",
              "      \n",
              "  <style>\n",
              "    .colab-df-container {\n",
              "      display:flex;\n",
              "      flex-wrap:wrap;\n",
              "      gap: 12px;\n",
              "    }\n",
              "\n",
              "    .colab-df-convert {\n",
              "      background-color: #E8F0FE;\n",
              "      border: none;\n",
              "      border-radius: 50%;\n",
              "      cursor: pointer;\n",
              "      display: none;\n",
              "      fill: #1967D2;\n",
              "      height: 32px;\n",
              "      padding: 0 0 0 0;\n",
              "      width: 32px;\n",
              "    }\n",
              "\n",
              "    .colab-df-convert:hover {\n",
              "      background-color: #E2EBFA;\n",
              "      box-shadow: 0px 1px 2px rgba(60, 64, 67, 0.3), 0px 1px 3px 1px rgba(60, 64, 67, 0.15);\n",
              "      fill: #174EA6;\n",
              "    }\n",
              "\n",
              "    [theme=dark] .colab-df-convert {\n",
              "      background-color: #3B4455;\n",
              "      fill: #D2E3FC;\n",
              "    }\n",
              "\n",
              "    [theme=dark] .colab-df-convert:hover {\n",
              "      background-color: #434B5C;\n",
              "      box-shadow: 0px 1px 3px 1px rgba(0, 0, 0, 0.15);\n",
              "      filter: drop-shadow(0px 1px 2px rgba(0, 0, 0, 0.3));\n",
              "      fill: #FFFFFF;\n",
              "    }\n",
              "  </style>\n",
              "\n",
              "      <script>\n",
              "        const buttonEl =\n",
              "          document.querySelector('#df-90f9391c-1048-471b-ac9b-f6cf1d1c4571 button.colab-df-convert');\n",
              "        buttonEl.style.display =\n",
              "          google.colab.kernel.accessAllowed ? 'block' : 'none';\n",
              "\n",
              "        async function convertToInteractive(key) {\n",
              "          const element = document.querySelector('#df-90f9391c-1048-471b-ac9b-f6cf1d1c4571');\n",
              "          const dataTable =\n",
              "            await google.colab.kernel.invokeFunction('convertToInteractive',\n",
              "                                                     [key], {});\n",
              "          if (!dataTable) return;\n",
              "\n",
              "          const docLinkHtml = 'Like what you see? Visit the ' +\n",
              "            '<a target=\"_blank\" href=https://colab.research.google.com/notebooks/data_table.ipynb>data table notebook</a>'\n",
              "            + ' to learn more about interactive tables.';\n",
              "          element.innerHTML = '';\n",
              "          dataTable['output_type'] = 'display_data';\n",
              "          await google.colab.output.renderOutput(dataTable, element);\n",
              "          const docLink = document.createElement('div');\n",
              "          docLink.innerHTML = docLinkHtml;\n",
              "          element.appendChild(docLink);\n",
              "        }\n",
              "      </script>\n",
              "    </div>\n",
              "  </div>\n",
              "  "
            ]
          },
          "metadata": {},
          "execution_count": 2
        }
      ]
    },
    {
      "cell_type": "markdown",
      "metadata": {
        "id": "iwFv5ofvPW_e"
      },
      "source": [
        "Dataset Preparation"
      ]
    },
    {
      "cell_type": "code",
      "metadata": {
        "colab": {
          "base_uri": "https://localhost:8080/",
          "height": 206
        },
        "id": "oQXvh0580QbF",
        "outputId": "5c36609a-9c40-47a2-ce0c-ac022e9938e4"
      },
      "source": [
        "data.head()"
      ],
      "execution_count": null,
      "outputs": [
        {
          "output_type": "execute_result",
          "data": {
            "text/plain": [
              "                                              comments sentiment\n",
              "100  আমার পরিবারের সবাই নিবন্ধনের ২ মাসের মধ্যেই টি...  positive\n",
              "101  সরকার বিনামূল্যে টিকা দিচ্ছে অথচ এসব উজবুকরা এ...  positive\n",
              "102  ১ম ডোজ দিয়েছেন আজ প্রায় ৪ মাস হলো। ২য় ডোজ দেয়া...  negative\n",
              "103  ষাটোর্ধ্বদের মৃত্যুঝুঁকি বেশি। তাঁদের বিরাট অং...   neutral\n",
              "104  এই টিকা নিলে এই হবে সেই হবে... পেট ব্যথায় মরে ...  positive"
            ],
            "text/html": [
              "\n",
              "  <div id=\"df-633dbea5-19cc-4f6e-ad4b-4d77df6f30fb\">\n",
              "    <div class=\"colab-df-container\">\n",
              "      <div>\n",
              "<style scoped>\n",
              "    .dataframe tbody tr th:only-of-type {\n",
              "        vertical-align: middle;\n",
              "    }\n",
              "\n",
              "    .dataframe tbody tr th {\n",
              "        vertical-align: top;\n",
              "    }\n",
              "\n",
              "    .dataframe thead th {\n",
              "        text-align: right;\n",
              "    }\n",
              "</style>\n",
              "<table border=\"1\" class=\"dataframe\">\n",
              "  <thead>\n",
              "    <tr style=\"text-align: right;\">\n",
              "      <th></th>\n",
              "      <th>comments</th>\n",
              "      <th>sentiment</th>\n",
              "    </tr>\n",
              "  </thead>\n",
              "  <tbody>\n",
              "    <tr>\n",
              "      <th>100</th>\n",
              "      <td>আমার পরিবারের সবাই নিবন্ধনের ২ মাসের মধ্যেই টি...</td>\n",
              "      <td>positive</td>\n",
              "    </tr>\n",
              "    <tr>\n",
              "      <th>101</th>\n",
              "      <td>সরকার বিনামূল্যে টিকা দিচ্ছে অথচ এসব উজবুকরা এ...</td>\n",
              "      <td>positive</td>\n",
              "    </tr>\n",
              "    <tr>\n",
              "      <th>102</th>\n",
              "      <td>১ম ডোজ দিয়েছেন আজ প্রায় ৪ মাস হলো। ২য় ডোজ দেয়া...</td>\n",
              "      <td>negative</td>\n",
              "    </tr>\n",
              "    <tr>\n",
              "      <th>103</th>\n",
              "      <td>ষাটোর্ধ্বদের মৃত্যুঝুঁকি বেশি। তাঁদের বিরাট অং...</td>\n",
              "      <td>neutral</td>\n",
              "    </tr>\n",
              "    <tr>\n",
              "      <th>104</th>\n",
              "      <td>এই টিকা নিলে এই হবে সেই হবে... পেট ব্যথায় মরে ...</td>\n",
              "      <td>positive</td>\n",
              "    </tr>\n",
              "  </tbody>\n",
              "</table>\n",
              "</div>\n",
              "      <button class=\"colab-df-convert\" onclick=\"convertToInteractive('df-633dbea5-19cc-4f6e-ad4b-4d77df6f30fb')\"\n",
              "              title=\"Convert this dataframe to an interactive table.\"\n",
              "              style=\"display:none;\">\n",
              "        \n",
              "  <svg xmlns=\"http://www.w3.org/2000/svg\" height=\"24px\"viewBox=\"0 0 24 24\"\n",
              "       width=\"24px\">\n",
              "    <path d=\"M0 0h24v24H0V0z\" fill=\"none\"/>\n",
              "    <path d=\"M18.56 5.44l.94 2.06.94-2.06 2.06-.94-2.06-.94-.94-2.06-.94 2.06-2.06.94zm-11 1L8.5 8.5l.94-2.06 2.06-.94-2.06-.94L8.5 2.5l-.94 2.06-2.06.94zm10 10l.94 2.06.94-2.06 2.06-.94-2.06-.94-.94-2.06-.94 2.06-2.06.94z\"/><path d=\"M17.41 7.96l-1.37-1.37c-.4-.4-.92-.59-1.43-.59-.52 0-1.04.2-1.43.59L10.3 9.45l-7.72 7.72c-.78.78-.78 2.05 0 2.83L4 21.41c.39.39.9.59 1.41.59.51 0 1.02-.2 1.41-.59l7.78-7.78 2.81-2.81c.8-.78.8-2.07 0-2.86zM5.41 20L4 18.59l7.72-7.72 1.47 1.35L5.41 20z\"/>\n",
              "  </svg>\n",
              "      </button>\n",
              "      \n",
              "  <style>\n",
              "    .colab-df-container {\n",
              "      display:flex;\n",
              "      flex-wrap:wrap;\n",
              "      gap: 12px;\n",
              "    }\n",
              "\n",
              "    .colab-df-convert {\n",
              "      background-color: #E8F0FE;\n",
              "      border: none;\n",
              "      border-radius: 50%;\n",
              "      cursor: pointer;\n",
              "      display: none;\n",
              "      fill: #1967D2;\n",
              "      height: 32px;\n",
              "      padding: 0 0 0 0;\n",
              "      width: 32px;\n",
              "    }\n",
              "\n",
              "    .colab-df-convert:hover {\n",
              "      background-color: #E2EBFA;\n",
              "      box-shadow: 0px 1px 2px rgba(60, 64, 67, 0.3), 0px 1px 3px 1px rgba(60, 64, 67, 0.15);\n",
              "      fill: #174EA6;\n",
              "    }\n",
              "\n",
              "    [theme=dark] .colab-df-convert {\n",
              "      background-color: #3B4455;\n",
              "      fill: #D2E3FC;\n",
              "    }\n",
              "\n",
              "    [theme=dark] .colab-df-convert:hover {\n",
              "      background-color: #434B5C;\n",
              "      box-shadow: 0px 1px 3px 1px rgba(0, 0, 0, 0.15);\n",
              "      filter: drop-shadow(0px 1px 2px rgba(0, 0, 0, 0.3));\n",
              "      fill: #FFFFFF;\n",
              "    }\n",
              "  </style>\n",
              "\n",
              "      <script>\n",
              "        const buttonEl =\n",
              "          document.querySelector('#df-633dbea5-19cc-4f6e-ad4b-4d77df6f30fb button.colab-df-convert');\n",
              "        buttonEl.style.display =\n",
              "          google.colab.kernel.accessAllowed ? 'block' : 'none';\n",
              "\n",
              "        async function convertToInteractive(key) {\n",
              "          const element = document.querySelector('#df-633dbea5-19cc-4f6e-ad4b-4d77df6f30fb');\n",
              "          const dataTable =\n",
              "            await google.colab.kernel.invokeFunction('convertToInteractive',\n",
              "                                                     [key], {});\n",
              "          if (!dataTable) return;\n",
              "\n",
              "          const docLinkHtml = 'Like what you see? Visit the ' +\n",
              "            '<a target=\"_blank\" href=https://colab.research.google.com/notebooks/data_table.ipynb>data table notebook</a>'\n",
              "            + ' to learn more about interactive tables.';\n",
              "          element.innerHTML = '';\n",
              "          dataTable['output_type'] = 'display_data';\n",
              "          await google.colab.output.renderOutput(dataTable, element);\n",
              "          const docLink = document.createElement('div');\n",
              "          docLink.innerHTML = docLinkHtml;\n",
              "          element.appendChild(docLink);\n",
              "        }\n",
              "      </script>\n",
              "    </div>\n",
              "  </div>\n",
              "  "
            ]
          },
          "metadata": {},
          "execution_count": 3
        }
      ]
    },
    {
      "cell_type": "code",
      "metadata": {
        "colab": {
          "base_uri": "https://localhost:8080/"
        },
        "id": "ALrNnjfUVa2I",
        "outputId": "0777183d-8eff-431e-d087-0e0331dd17c3"
      },
      "source": [
        "print(\"Total Reviews:\",len(data),\n",
        "      \"\\nTotal Positive Reviews:\",len(data[data.sentiment =='positive']),\n",
        "      \"\\nTotal Negative Reviews:\",len(data[data.sentiment=='negative']))\n",
        "      "
      ],
      "execution_count": null,
      "outputs": [
        {
          "output_type": "stream",
          "name": "stdout",
          "text": [
            "Total Reviews: 1110 \n",
            "Total Positive Reviews: 394 \n",
            "Total Negative Reviews: 601\n"
          ]
        }
      ]
    },
    {
      "cell_type": "code",
      "metadata": {
        "colab": {
          "base_uri": "https://localhost:8080/"
        },
        "id": "EOOEd6lwWVeb",
        "outputId": "c7db2c9b-60f9-44b5-b8b6-9ce7ef48810b"
      },
      "source": [
        "data.columns"
      ],
      "execution_count": null,
      "outputs": [
        {
          "output_type": "execute_result",
          "data": {
            "text/plain": [
              "Index(['comments', 'sentiment'], dtype='object')"
            ]
          },
          "metadata": {},
          "execution_count": 5
        }
      ]
    },
    {
      "cell_type": "code",
      "metadata": {
        "colab": {
          "base_uri": "https://localhost:8080/"
        },
        "id": "Xipx67erWVbw",
        "outputId": "7d3296ff-ed76-49f7-cae3-9ec0733250f9"
      },
      "source": [
        "# print some unprocessed reviews\n",
        "sample_data = [100,150,200,250,600,650]\n",
        "for i in sample_data:\n",
        "      print(data.comments[i],'\\n','Sentiment:-- ',data.sentiment[i],'\\n')"
      ],
      "execution_count": null,
      "outputs": [
        {
          "output_type": "stream",
          "name": "stdout",
          "text": [
            "আমার পরিবারের সবাই নিবন্ধনের ২ মাসের মধ্যেই টিকা পেয়ে গিয়েছি। \n",
            " Sentiment:--  positive \n",
            "\n",
            "চেতনাবাজ বিজ্ঞানীরা পরিক্ষা করে দেখেছেন, এই টিকা বাংলাদেশিরা নিলে গভীর এলার্জিক রিয়েকশন হবে \n",
            " Sentiment:--  negative \n",
            "\n",
            "সবাই একসাথে জড়ো হয়ে স্বাস্থ্য বিধি উপেক্ষা করে টিকা নেওয়ার চেষ্টা করবে এতে লাভের চেয়ে ক্ষতিই হবে বেশি। ভাইরাসের জন্যে টিকা নিতে গিয়ে সংগে করে ভাইরাস নিয়ে বাসায় ফেরত আসতে হবে। \n",
            " Sentiment:--  positive \n",
            "\n",
            "ভারত টিকা ১টানা ১০ বছর সুরক্ষা দেয়, তাই সবাই ভারতের টিকা দিন \n",
            " Sentiment:--  positive \n",
            "\n",
            "তার হজব্যন্ড ও ফাইজারের টিকা নিয়ে মারা গিয়েছেন,ক্যান্সারের পেইশেন্ট। \n",
            " Sentiment:--  negative \n",
            "\n",
            "টিকা একটা মরণ ফাদ।জনসংখ্যা কমানোর ধান্দা।এছাড়া আর কিছুইনা \n",
            " Sentiment:--  negative \n",
            "\n"
          ]
        }
      ]
    },
    {
      "cell_type": "code",
      "metadata": {
        "colab": {
          "base_uri": "https://localhost:8080/",
          "height": 272
        },
        "id": "DaO_MG9xBFjs",
        "outputId": "a46424f5-4e9f-49d8-ba6c-5ffb05bdbac5"
      },
      "source": [
        "\n",
        "sns.set(font_scale=1.4)\n",
        "data['sentiment'].value_counts().plot(kind='barh', figsize=(9, 3))\n",
        "plt.xlabel(\"Number of Comments\", labelpad=12)\n",
        "plt.ylabel(\"Sentiment Class\", labelpad=12)\n",
        "plt.yticks(rotation = 45)\n",
        "plt.title(\"Dataset Distribution\", y=1.02);"
      ],
      "execution_count": null,
      "outputs": [
        {
          "output_type": "display_data",
          "data": {
            "text/plain": [
              "<Figure size 648x216 with 1 Axes>"
            ],
            "image/png": "[encoded data removed]"
          },
          "metadata": {}
        }
      ]
    },
    {
      "cell_type": "markdown",
      "metadata": {
        "id": "sayDH_e9PeQc"
      },
      "source": [
        "Data Cleaning"
      ]
    },
    {
      "cell_type": "code",
      "metadata": {
        "id": "p0Xr-oZOBWe9"
      },
      "source": [
        "\n",
        "# Data cleaning function\n",
        "def process_comments(Comment): \n",
        "    Comment = re.sub('[^\\u0980-\\u09FF]',' ',str(Comment)) #removing unnecessary punctuation\n",
        "    return Comment"
      ],
      "execution_count": null,
      "outputs": []
    },
    {
      "cell_type": "code",
      "metadata": {
        "colab": {
          "base_uri": "https://localhost:8080/"
        },
        "id": "wPXmYTjkBWce",
        "outputId": "d7b96a7f-825e-4c29-a636-c6355c829ba8"
      },
      "source": [
        "# Apply the function into the dataframe\n",
        "data['cleaned'] = data['comments'].apply(process_comments)  \n",
        "\n",
        "# print some cleaned reviews from the dataset\n",
        "sample_data = [100,854,966]\n",
        "for i in sample_data:\n",
        "     print('Original:\\n',data.comments[i],'\\nCleaned:\\n',\n",
        "           data.cleaned[i],'\\n','Sentiment:-- ',data.sentiment[i],'\\n')"
      ],
      "execution_count": null,
      "outputs": [
        {
          "output_type": "stream",
          "name": "stdout",
          "text": [
            "Original:\n",
            " আমার পরিবারের সবাই নিবন্ধনের ২ মাসের মধ্যেই টিকা পেয়ে গিয়েছি। \n",
            "Cleaned:\n",
            " আমার পরিবারের সবাই নিবন্ধনের ২ মাসের মধ্যেই টিকা পেয়ে গিয়েছি  \n",
            " Sentiment:--  positive \n",
            "\n",
            "Original:\n",
            " কে বলছে টিকা নিলে করোনায় আক্রান্ত হবে না! \n",
            "Cleaned:\n",
            " কে বলছে টিকা নিলে করোনায় আক্রান্ত হবে না  \n",
            " Sentiment:--  negative \n",
            "\n",
            "Original:\n",
            " টিকার উপর কোনো ভরসা নেই \n",
            "Cleaned:\n",
            " টিকার উপর কোনো ভরসা নেই \n",
            " Sentiment:--  negative \n",
            "\n"
          ]
        }
      ]
    },
    {
      "cell_type": "markdown",
      "metadata": {
        "id": "AmZ8WdqiPiNj"
      },
      "source": [
        "Remove Low lenght data"
      ]
    },
    {
      "cell_type": "code",
      "metadata": {
        "colab": {
          "base_uri": "https://localhost:8080/"
        },
        "id": "1-YRqbKUBWaC",
        "outputId": "86244f86-b6b0-44f4-da0b-09f165e45442"
      },
      "source": [
        "# Length of each Reveiws\n",
        "data['length'] = data['cleaned'].apply(lambda x:len(x.split()))\n",
        "# Remove the reviews with least words\n",
        "dataset = data.loc[data.length>1]\n",
        "dataset = dataset.reset_index(drop = True)\n",
        "print(\"After Cleaning:\",\"\\nRemoved {} Small Reviews\".format(len(data)-len(dataset)),\n",
        "      \"\\nTotal Reviews:\",len(dataset))"
      ],
      "execution_count": null,
      "outputs": [
        {
          "output_type": "stream",
          "name": "stdout",
          "text": [
            "After Cleaning: \n",
            "Removed 0 Small Reviews \n",
            "Total Reviews: 1110\n"
          ]
        }
      ]
    },
    {
      "cell_type": "markdown",
      "metadata": {
        "id": "xMYMn0EkPm7z"
      },
      "source": [
        "Dataset Summary"
      ]
    },
    {
      "cell_type": "code",
      "metadata": {
        "colab": {
          "base_uri": "https://localhost:8080/"
        },
        "id": "54nhYmTTBWXO",
        "outputId": "ce4772f8-f62e-4889-9aaf-acd1fcb7b2fd"
      },
      "source": [
        "def data_summary(dataset):\n",
        "    \n",
        "    \"\"\"\n",
        "    This function will print the summary of the reviews and words distribution in the dataset. \n",
        "    \n",
        "    Args:\n",
        "        dataset: list of cleaned sentences   \n",
        "        \n",
        "    Returns:\n",
        "        Number of documnets per class: int \n",
        "        Number of words per class: int\n",
        "        Number of unique words per class: int\n",
        "    \"\"\"\n",
        "    documents = []\n",
        "    words = []\n",
        "    u_words = []\n",
        "    total_u_words = [word.strip().lower() for t in list(dataset.cleaned) for word in t.strip().split()]\n",
        "    class_label= [k for k,v in dataset.sentiment.value_counts().to_dict().items()]\n",
        "  # find word list\n",
        "    for label in class_label: \n",
        "        word_list = [word.strip().lower() for t in list(dataset[dataset.sentiment==label].cleaned) for word in t.strip().split()]\n",
        "        counts = dict()\n",
        "        for word in word_list:\n",
        "                counts[word] = counts.get(word, 0)+1\n",
        "        # sort the dictionary of word list  \n",
        "        ordered = sorted(counts.items(), key= lambda item: item[1],reverse = True)\n",
        "        # Documents per class\n",
        "        documents.append(len(list(dataset[dataset.sentiment==label].cleaned)))\n",
        "        # Total Word per class\n",
        "        words.append(len(word_list))\n",
        "        # Unique words per class \n",
        "        u_words.append(len(np.unique(word_list)))\n",
        "       \n",
        "        print(\"\\nClass Name : \",label)\n",
        "        print(\"Number of Documents:{}\".format(len(list(dataset[dataset.sentiment==label].cleaned))))  \n",
        "        print(\"Number of Words:{}\".format(len(word_list))) \n",
        "        print(\"Number of Unique Words:{}\".format(len(np.unique(word_list)))) \n",
        "        print(\"Most Frequent Words:\\n\")\n",
        "        for k,v in ordered[:10]:\n",
        "              print(\"{}\\t{}\".format(k,v))\n",
        "    print(\"Total Number of Unique Words:{}\".format(len(np.unique(total_u_words))))           \n",
        "   \n",
        "    return documents,words,u_words,class_label\n",
        "\n",
        "#call the fucntion\n",
        "documents,words,u_words,class_names = data_summary(dataset)"
      ],
      "execution_count": null,
      "outputs": [
        {
          "output_type": "stream",
          "name": "stdout",
          "text": [
            "\n",
            "Class Name :  negative\n",
            "Number of Documents:601\n",
            "Number of Words:5843\n",
            "Number of Unique Words:1728\n",
            "Most Frequent Words:\n",
            "\n",
            "টিকা\t530\n",
            "না\t150\n",
            "করোনা\t114\n",
            "নেওয়ার\t74\n",
            "টিকার\t68\n",
            "পর\t65\n",
            "আক্রান্ত\t61\n",
            "এই\t56\n",
            "আমি\t44\n",
            "মারা\t42\n",
            "\n",
            "Class Name :  positive\n",
            "Number of Documents:394\n",
            "Number of Words:4189\n",
            "Number of Unique Words:1390\n",
            "Most Frequent Words:\n",
            "\n",
            "টিকা\t363\n",
            "করোনা\t73\n",
            "হবে\t61\n",
            "না\t45\n",
            "আমি\t39\n",
            "টিকার\t37\n",
            "এই\t34\n",
            "কোন\t31\n",
            "নিলে\t29\n",
            "আমার\t28\n",
            "\n",
            "Class Name :  neutral\n",
            "Number of Documents:115\n",
            "Number of Words:1272\n",
            "Number of Unique Words:683\n",
            "Most Frequent Words:\n",
            "\n",
            "টিকা\t97\n",
            "না\t30\n",
            "করোনা\t23\n",
            "কি\t16\n",
            "টিকার\t14\n",
            "আর\t11\n",
            "করে\t10\n",
            "নিয়ে\t9\n",
            "নাকি\t9\n",
            "তা\t9\n",
            "Total Number of Unique Words:2798\n"
          ]
        }
      ]
    },
    {
      "cell_type": "markdown",
      "metadata": {
        "id": "YmleDNWIPrG-"
      },
      "source": [
        "Dataset Summary Visualization"
      ]
    },
    {
      "cell_type": "code",
      "metadata": {
        "colab": {
          "base_uri": "https://localhost:8080/",
          "height": 358
        },
        "id": "H1FP6EeGBWU2",
        "outputId": "8d8498f1-19e0-419d-fc67-84faadb5a7bc"
      },
      "source": [
        "data_matrix = pd.DataFrame({'Total Documents':documents,\n",
        "                            'Total Words':words,\n",
        "                            'Unique Words':u_words,\n",
        "                            'Class Names':class_names})\n",
        "df = pd.melt(data_matrix, id_vars=\"Class Names\", var_name=\"Category\", value_name=\"Values\")\n",
        "plt.figure(figsize=(6, 4))\n",
        "ax = plt.subplot()\n",
        "\n",
        "sns.barplot(data=df,x='Class Names', y='Values' ,hue='Category')\n",
        "ax.set_xlabel('Class Names') \n",
        "ax.set_title('Data Statistics')\n",
        "\n",
        "ax.xaxis.set_ticklabels(class_names, rotation=45);"
      ],
      "execution_count": null,
      "outputs": [
        {
          "output_type": "display_data",
          "data": {
            "text/plain": [
              "<Figure size 432x288 with 1 Axes>"
            ],
            "image/png": "[encoded data removed]"
          },
          "metadata": {}
        }
      ]
    },
    {
      "cell_type": "markdown",
      "metadata": {
        "id": "MkR1qEgxPvk3"
      },
      "source": [
        "Comment Lenght Distribution"
      ]
    },
    {
      "cell_type": "code",
      "metadata": {
        "colab": {
          "base_uri": "https://localhost:8080/",
          "height": 367
        },
        "id": "0g3-MtywBWSM",
        "outputId": "ee0a54f7-f063-4d3f-d644-c6a2b26baceb"
      },
      "source": [
        "# Calculate the Review of each of the Review\n",
        "dataset['ReviewLength'] = dataset.cleaned.apply(lambda x:len(x.split()))\n",
        "frequency = dict()\n",
        "for i in dataset.ReviewLength:\n",
        "    frequency[i] = frequency.get(i, 0)+1\n",
        "\n",
        "plt.bar(frequency.keys(), frequency.values(), color =\"b\")\n",
        "plt.xlim(1, 135)\n",
        "# in this notbook color is not working but it should work.\n",
        "plt.xlabel('Lenght of the Texts')\n",
        "plt.ylabel('Frequency')\n",
        "plt.title('Length-Frequency Distribution')\n",
        "plt.show()  \n",
        "print(f\"Maximum Length of a review: {max(dataset.ReviewLength)}\")\n",
        "print(f\"Minimum Length of a review: {min(dataset.ReviewLength)}\")\n",
        "print(f\"Average Length of a reviews: {round(np.mean(dataset.ReviewLength),0)}\")"
      ],
      "execution_count": null,
      "outputs": [
        {
          "output_type": "display_data",
          "data": {
            "text/plain": [
              "<Figure size 432x288 with 1 Axes>"
            ],
            "image/png": "[encoded data removed]"
          },
          "metadata": {}
        },
        {
          "output_type": "stream",
          "name": "stdout",
          "text": [
            "Maximum Length of a review: 34\n",
            "Minimum Length of a review: 2\n",
            "Average Length of a reviews: 10.0\n"
          ]
        }
      ]
    },
    {
      "cell_type": "markdown",
      "metadata": {
        "id": "2s9pYt-rP0mc"
      },
      "source": [
        "Take only Positive and Negative Class for Model Building"
      ]
    },
    {
      "cell_type": "code",
      "source": [
        "dataset.sentiment.unique()"
      ],
      "metadata": {
        "colab": {
          "base_uri": "https://localhost:8080/"
        },
        "id": "rCS55Ld_wqZX",
        "outputId": "25d49eee-55a9-4586-9609-37875cebd9e0"
      },
      "execution_count": null,
      "outputs": [
        {
          "output_type": "execute_result",
          "data": {
            "text/plain": [
              "array(['positive', 'negative', 'neutral'], dtype=object)"
            ]
          },
          "metadata": {},
          "execution_count": 14
        }
      ]
    },
    {
      "cell_type": "code",
      "source": [
        "stop_words = pd.read_fwf('/content/stop_words.txt')\n",
        "print(stop_words)\n",
        "dataset['cleaned'] = dataset['cleaned'].apply(lambda x: ' '.join([word for word in x.split() if word not in (stop_words)]))"
      ],
      "metadata": {
        "colab": {
          "base_uri": "https://localhost:8080/"
        },
        "id": "THbMUOqhxx7Y",
        "outputId": "f2d7c2d8-3c75-4e80-8f81-d48ab6cbeeee"
      },
      "execution_count": null,
      "outputs": [
        {
          "output_type": "stream",
          "name": "stdout",
          "text": [
            "         অতএব\n",
            "0         অথচ\n",
            "1        অথবা\n",
            "2    অনুযায়ী\n",
            "3        অনেক\n",
            "4       অনেকে\n",
            "..        ...\n",
            "392     হাজার\n",
            "393    হিসাবে\n",
            "394      হৈলে\n",
            "395       হোক\n",
            "396        হয়\n",
            "\n",
            "[397 rows x 1 columns]\n"
          ]
        }
      ]
    },
    {
      "cell_type": "markdown",
      "metadata": {
        "id": "evtUkPNeCdu3"
      },
      "source": [
        "**Lable Encoding and Dataset Splitting**"
      ]
    },
    {
      "cell_type": "code",
      "metadata": {
        "id": "D6PVlj-eCQM_"
      },
      "source": [
        "#==================================================\n",
        "                                       ################# Label Encoding Function #########\n",
        "                                       #==================================================\n",
        "\n",
        "def label_encoding(sentiment,bool):\n",
        "    \"\"\"\n",
        "    This function will return the encoded labels in array format. \n",
        "    \n",
        "    Args:\n",
        "        sentiment: series of class names(str)\n",
        "        bool: boolean (True or False)\n",
        "        \n",
        "    Returns:\n",
        "        labels: numpy array \n",
        "    \"\"\"\n",
        "    le = LabelEncoder()\n",
        "    le.fit(sentiment)\n",
        "    encoded_labels = le.transform(sentiment)\n",
        "    labels = np.array(encoded_labels) # Converting into numpy array\n",
        "    class_names =le.classes_ ## Define the class names again\n",
        "    if bool == True:\n",
        "        print(\"\\n\\t\\t\\t===== Label Encoding =====\",\"\\nClass Names:-->\",le.classes_)\n",
        "        for i in sample_data:\n",
        "            print(sentiment[i],' ', encoded_labels[i],'\\n')\n",
        "\n",
        "    return labels\n",
        "\n",
        "\n",
        "\n",
        "                           #===========================================================\n",
        "                           ################# Dataset Splitting Function ###############\n",
        "                           #=========================================================== \n",
        "\n",
        "def dataset_split(feature_space,sentiment):\n",
        "    \"\"\"\n",
        "    This function will return the splitted (80%-20%) feature vector . \n",
        "    \n",
        "    Args:\n",
        "        feature_space: calcuated feature vector (sparse matrix)\n",
        "        sentiment: encoded lables (array) \n",
        "        \n",
        "    Returns:\n",
        "        X_train: training feature vector (sparse matrix)\n",
        "        X_test : testing feature vector (sparse matrix)\n",
        "        y_train: training encoded labels (array) \n",
        "        y_test : testing encoded labels (array) \n",
        "    \"\"\"\n",
        "\n",
        "    X_train,X_test,y_train,y_test = train_test_split(feature_space,sentiment,train_size = 0.9,\n",
        "                                                  test_size = 0.1,random_state =0)\n",
        "    print(\"Feature Size :======>\",X_train.shape[1])\n",
        "    print(\"\\nDataset Distribution:\\n\")\n",
        "    print(\"\\tSet Name\",\"\\t\\tSize\")\n",
        "    print(\"\\t========\\t\\t======\")\n",
        "\n",
        "    print(\"\\tFull\\t\\t\\t\",feature_space.shape[0],\n",
        "        \"\\n\\tTraining\\t\\t\",X_train.shape[0],\n",
        "        \"\\n\\tTest\\t\\t\\t\",X_test.shape[0])\n",
        "  \n",
        "    return X_train,X_test,y_train,y_test"
      ],
      "execution_count": null,
      "outputs": []
    },
    {
      "cell_type": "code",
      "metadata": {
        "id": "5ltTDryRCQJ-"
      },
      "source": [
        "dataset.cleaned = dataset.cleaned.apply(lambda x:x.replace('\\n',' '))"
      ],
      "execution_count": null,
      "outputs": []
    },
    {
      "cell_type": "code",
      "source": [
        "dataset.head(50)"
      ],
      "metadata": {
        "colab": {
          "base_uri": "https://localhost:8080/",
          "height": 1000
        },
        "id": "gohFap7tye7o",
        "outputId": "0bf0da8d-d71e-4e8b-a9e7-b05ad4289e61"
      },
      "execution_count": null,
      "outputs": [
        {
          "output_type": "execute_result",
          "data": {
            "text/plain": [
              "                                             comments sentiment  \\\n",
              "0   আমার পরিবারের সবাই নিবন্ধনের ২ মাসের মধ্যেই টি...  positive   \n",
              "1   সরকার বিনামূল্যে টিকা দিচ্ছে অথচ এসব উজবুকরা এ...  positive   \n",
              "2   ১ম ডোজ দিয়েছেন আজ প্রায় ৪ মাস হলো। ২য় ডোজ দেয়া...  negative   \n",
              "3   ষাটোর্ধ্বদের মৃত্যুঝুঁকি বেশি। তাঁদের বিরাট অং...   neutral   \n",
              "4   এই টিকা নিলে এই হবে সেই হবে... পেট ব্যথায় মরে ...  positive   \n",
              "5   টিকা নিয়ে আসলো,নাকি অন্যকোনো ভাইরাস নিয়া আসছে ...   neutral   \n",
              "6   যারা এ টিকা গ্রহণ করবে তাদের করোনা থাকবে না কা...  positive   \n",
              "7        ডোজ নিলে হয়তো করোনার থেকে রক্ষা পাওয়া যাবে.   positive   \n",
              "8   মিটফোর্ড এলাকাতে নকল টিকা বানানোর প্রতিযোগিতা ...  negative   \n",
              "9   করোনার টিকা নকল হলেইতো নকলকারীরই লোকসান হবে। ক...  negative   \n",
              "10                 এখন করোনার টিকা নিতে কোনো সংশয় নেই  positive   \n",
              "11  অন্য দেশ যেখানে টিকা নেওয়ার জন্য প্রতিযোগিতা ...  negative   \n",
              "12  স্যালাইন দিয়ে বানানো টিকা প্রয়োগের জোর দাবি জা...  negative   \n",
              "13              নকল টিকা বানানোর হিড়িক পরে যেতে পারে   negative   \n",
              "14  অধিকাংশ সাধারণ বাঙালি টিকা দেবেনা। যদিও দেয়, ...  negative   \n",
              "15  টিকা দিয়ে লাভ কি হবে।কয়দিন পর শুনবাশুধু স্যালা...  negative   \n",
              "16  ছোট বেলায় যারা খালি ইঞ্জেকশনে পানি ভরতো, বড় হয়...  negative   \n",
              "17  স্যালাইন এর সাথে মাম বিশুদ্ধ পানি কম্বাইন করে ...  negative   \n",
              "18  যেখানে নকল নুনু পাওয়া যায় সেখানে টিকা তো সাধার...  negative   \n",
              "19  নকল টিকা আবিষ্কারকের পশ্চাতদেশে ৫৮ হাজার ডোজ এ...  negative   \n",
              "20  টিকার কোন প্বার্শপ্রতিক্রিয়া নেই...\\nনির্ভয়ে ন...  positive   \n",
              "21  আমি আরো চিন্তিত ছিলাম এতো দিন কিরে কোনো নকল টি...  negative   \n",
              "22  বাংলাদেশেও মনে হয় এই টিকা দেওয়া হচ্ছে, এই জন্য...  negative   \n",
              "23  যেখানে সারা পৃথিবীর মানুষ করোনার জন্য প্রাণ ভয...  positive   \n",
              "24  মরে যাবো, তবুও টিকা নিবো না। দেখা গেলো ভুয়া টি...  negative   \n",
              "25  যে টিকা ফ্রি নিচ্ছেন সেটাও যে সেলাইন আর মিনারে...  negative   \n",
              "26  কিছু নতুন উদ্দোক্তা বের হবে কিভাবে নকল টিকা সা...  negative   \n",
              "27  টিকা কার্যকরী। এর কোনো পার্শ্বপ্রতিক্রিয়া থাকব...  positive   \n",
              "28  স্যালাইন ও পানি দিয়ে বানানো নকল টিকা লাখ লাখ ড...  negative   \n",
              "29    মেয়েরা এই টিকা নিলে নাকি মা,,হবার ক্ষমতা হারাবে  negative   \n",
              "30  এগুলোকে নকল না বলে পলিটিকাল টিকা বলেন। রাজনীতি...  negative   \n",
              "31  নতুন ধরনের টিকা আবিষ্কার করার জন্য তাকে নোবেল ...  positive   \n",
              "32            এই জন্যেই বলি টিকা নিলেও যা না নিলেও তা  negative   \n",
              "33  আমি বাঁইছা গেছি টিকা নেওয়ার পর আমার হালকা জ্বর...  negative   \n",
              "34            তাইওয়ান চায়নার টিকা নিতে অস্বীকার করেছে  negative   \n",
              "35                       এখন আর নকল টিকার অভাব হবে না  negative   \n",
              "36  স্বাস্থ্যমন্ত্রীকে কি স্যালাইন দিয়ে বানানো টিক...  negative   \n",
              "37  যে দেশে করোনার রিপোর্ট নকল হতে পারে,সেই দেশে ট...  negative   \n",
              "38  শুরু হয়ে গেছে নকল টিকা বানানোর কাজ এদেরকে কেন ...  negative   \n",
              "39  এতোদিন করোনার ভুয়া সারটিফিকেট নিয়ে ব্যবস্যা কর...  negative   \n",
              "40  করোনার টিকা যদি সরকার মাঘনাও দেয় তাও দিবো না *...  negative   \n",
              "41  বাংলাদেশে যে টিকা দেয়া হচ্ছে সেটা যে আসল তার প...   neutral   \n",
              "42   ভাবছিলাম কাল টিকা দিতে জামু  লাগবে না টিকা আমার   negative   \n",
              "43  আগ্রহ প্রকাশ করে ছিলাম টিকা দেওয়ার জন্য, এখন ম...  negative   \n",
              "44  একটি টিকা দুই তিনজনকে পুশ করা হচ্ছে. যা অনেকেই...  negative   \n",
              "45  আর কিছুদিন অপেক্ষা করলে ভারতের বেস্ট কোয়ালিটি...  positive   \n",
              "46  চীনের টীকায় এন্টিবডি সবচেয়ে বেশী, গবেষণায় প্রম...  positive   \n",
              "47  চিনা টিকার কার্যকারিতা কম।শেষে\\nদেশে দেখা যাবে...  negative   \n",
              "48  আমার মতে যারা চীন কে সমর্থন দেয় তারা চীনের টি...   neutral   \n",
              "49  করোনার টিকা কিভাবে আমাদের আগে পাকিস্তান উৎপাদন...   neutral   \n",
              "\n",
              "                                              cleaned  length  ReviewLength  \n",
              "0   আমার পরিবারের সবাই নিবন্ধনের ২ মাসের মধ্যেই টি...      10            10  \n",
              "1   সরকার বিনামূল্যে টিকা দিচ্ছে অথচ এসব উজবুকরা এ...      11            11  \n",
              "2   ১ম ডোজ দিয়েছেন আজ প্রায় ৪ মাস হলো ২য় ডোজ দেয়ার...      19            19  \n",
              "3   ষাটোর্ধ্বদের মৃত্যুঝুঁকি বেশি তাঁদের বিরাট অংশ...      16            16  \n",
              "4   এই টিকা নিলে এই হবে সেই হবে পেট ব্যথায় মরে যাব...      18            18  \n",
              "5   টিকা নিয়ে আসলো নাকি অন্যকোনো ভাইরাস নিয়া আসছে ...      13            13  \n",
              "6   যারা এ টিকা গ্রহণ করবে তাদের করোনা থাকবে না কা...      13            13  \n",
              "7          ডোজ নিলে হয়তো করোনার থেকে রক্ষা পাওয়া যাবে       8             8  \n",
              "8   মিটফোর্ড এলাকাতে নকল টিকা বানানোর প্রতিযোগিতা ...       9             9  \n",
              "9   করোনার টিকা নকল হলেইতো নকলকারীরই লোকসান হবে কে...      21            21  \n",
              "10                 এখন করোনার টিকা নিতে কোনো সংশয় নেই       7             7  \n",
              "11  অন্য দেশ যেখানে টিকা নেওয়ার জন্য প্রতিযোগিতা ...      17            17  \n",
              "12  স্যালাইন দিয়ে বানানো টিকা প্রয়োগের জোর দাবি জা...       8             8  \n",
              "13               নকল টিকা বানানোর হিড়িক পরে যেতে পারে       7             7  \n",
              "14  অধিকাংশ সাধারণ বাঙালি টিকা দেবেনা যদিও দেয় দে...      15            15  \n",
              "15  টিকা দিয়ে লাভ কি হবে কয়দিন পর শুনবাশুধু স্যালা...      10            10  \n",
              "16  ছোট বেলায় যারা খালি ইঞ্জেকশনে পানি ভরতো বড় হয়ে...      18            18  \n",
              "17  স্যালাইন এর সাথে মাম বিশুদ্ধ পানি কম্বাইন করে ...      21            21  \n",
              "18  যেখানে নকল নুনু পাওয়া যায় সেখানে টিকা তো সাধার...      10            10  \n",
              "19  নকল টিকা আবিষ্কারকের পশ্চাতদেশে ৫৮ হাজার ডোজ এ...      11            11  \n",
              "20  টিকার কোন প্বার্শপ্রতিক্রিয়া নেই নির্ভয়ে নেয়া ...       7             7  \n",
              "21  আমি আরো চিন্তিত ছিলাম এতো দিন কিরে কোনো নকল টি...      14            14  \n",
              "22  বাংলাদেশেও মনে হয় এই টিকা দেওয়া হচ্ছে এই জন্য ...      12            12  \n",
              "23  যেখানে সারা পৃথিবীর মানুষ করোনার জন্য প্রাণ ভয...      24            24  \n",
              "24  মরে যাবো তবুও টিকা নিবো না দেখা গেলো ভুয়া টিকা...      16            16  \n",
              "25  যে টিকা ফ্রি নিচ্ছেন সেটাও যে সেলাইন আর মিনারে...      16            16  \n",
              "26  কিছু নতুন উদ্দোক্তা বের হবে কিভাবে নকল টিকা সা...      13            13  \n",
              "27  টিকা কার্যকরী এর কোনো পার্শ্বপ্রতিক্রিয়া থাকবে...      10            10  \n",
              "28  স্যালাইন ও পানি দিয়ে বানানো নকল টিকা লাখ লাখ ড...      17            17  \n",
              "29     মেয়েরা এই টিকা নিলে নাকি মা হবার ক্ষমতা হারাবে       9             9  \n",
              "30  এগুলোকে নকল না বলে পলিটিকাল টিকা বলেন রাজনীতিব...      15            15  \n",
              "31  নতুন ধরনের টিকা আবিষ্কার করার জন্য তাকে নোবেল ...      10            10  \n",
              "32            এই জন্যেই বলি টিকা নিলেও যা না নিলেও তা       9             9  \n",
              "33  আমি বাঁইছা গেছি টিকা নেওয়ার পর আমার হালকা জ্বর...      13            13  \n",
              "34            তাইওয়ান চায়নার টিকা নিতে অস্বীকার করেছে       6             6  \n",
              "35                       এখন আর নকল টিকার অভাব হবে না       7             7  \n",
              "36  স্বাস্থ্যমন্ত্রীকে কি স্যালাইন দিয়ে বানানো টিক...       9             9  \n",
              "37  যে দেশে করোনার রিপোর্ট নকল হতে পারে সেই দেশে ট...      14            14  \n",
              "38  শুরু হয়ে গেছে নকল টিকা বানানোর কাজ এদেরকে কেন ...      12            12  \n",
              "39  এতোদিন করোনার ভুয়া সারটিফিকেট নিয়ে ব্যবস্যা কর...      15            15  \n",
              "40  করোনার টিকা যদি সরকার মাঘনাও দেয় তাও দিবো না ক...      16            16  \n",
              "41  বাংলাদেশে যে টিকা দেয়া হচ্ছে সেটা যে আসল তার প...      11            11  \n",
              "42     ভাবছিলাম কাল টিকা দিতে জামু লাগবে না টিকা আমার       9             9  \n",
              "43  আগ্রহ প্রকাশ করে ছিলাম টিকা দেওয়ার জন্য এখন মি...      14            14  \n",
              "44  একটি টিকা দুই তিনজনকে পুশ করা হচ্ছে যা অনেকেই ...      10            10  \n",
              "45  আর কিছুদিন অপেক্ষা করলে ভারতের বেস্ট কোয়ালিটি...       9             9  \n",
              "46  চীনের টীকায় এন্টিবডি সবচেয়ে বেশী গবেষণায় প্রমাণিত       7             7  \n",
              "47  চিনা টিকার কার্যকারিতা কম শেষে দেশে দেখা যাবে ...      12            12  \n",
              "48  আমার মতে যারা চীন কে সমর্থন দেয় তারা চীনের টি...      22            22  \n",
              "49  করোনার টিকা কিভাবে আমাদের আগে পাকিস্তান উৎপাদন...       8             8  "
            ],
            "text/html": [
              "\n",
              "  <div id=\"df-51a84b7d-e791-4e38-85bf-4eb42de9dbef\">\n",
              "    <div class=\"colab-df-container\">\n",
              "      <div>\n",
              "<style scoped>\n",
              "    .dataframe tbody tr th:only-of-type {\n",
              "        vertical-align: middle;\n",
              "    }\n",
              "\n",
              "    .dataframe tbody tr th {\n",
              "        vertical-align: top;\n",
              "    }\n",
              "\n",
              "    .dataframe thead th {\n",
              "        text-align: right;\n",
              "    }\n",
              "</style>\n",
              "<table border=\"1\" class=\"dataframe\">\n",
              "  <thead>\n",
              "    <tr style=\"text-align: right;\">\n",
              "      <th></th>\n",
              "      <th>comments</th>\n",
              "      <th>sentiment</th>\n",
              "      <th>cleaned</th>\n",
              "      <th>length</th>\n",
              "      <th>ReviewLength</th>\n",
              "    </tr>\n",
              "  </thead>\n",
              "  <tbody>\n",
              "    <tr>\n",
              "      <th>0</th>\n",
              "      <td>আমার পরিবারের সবাই নিবন্ধনের ২ মাসের মধ্যেই টি...</td>\n",
              "      <td>positive</td>\n",
              "      <td>আমার পরিবারের সবাই নিবন্ধনের ২ মাসের মধ্যেই টি...</td>\n",
              "      <td>10</td>\n",
              "      <td>10</td>\n",
              "    </tr>\n",
              "    <tr>\n",
              "      <th>1</th>\n",
              "      <td>সরকার বিনামূল্যে টিকা দিচ্ছে অথচ এসব উজবুকরা এ...</td>\n",
              "      <td>positive</td>\n",
              "      <td>সরকার বিনামূল্যে টিকা দিচ্ছে অথচ এসব উজবুকরা এ...</td>\n",
              "      <td>11</td>\n",
              "      <td>11</td>\n",
              "    </tr>\n",
              "    <tr>\n",
              "      <th>2</th>\n",
              "      <td>১ম ডোজ দিয়েছেন আজ প্রায় ৪ মাস হলো। ২য় ডোজ দেয়া...</td>\n",
              "      <td>negative</td>\n",
              "      <td>১ম ডোজ দিয়েছেন আজ প্রায় ৪ মাস হলো ২য় ডোজ দেয়ার...</td>\n",
              "      <td>19</td>\n",
              "      <td>19</td>\n",
              "    </tr>\n",
              "    <tr>\n",
              "      <th>3</th>\n",
              "      <td>ষাটোর্ধ্বদের মৃত্যুঝুঁকি বেশি। তাঁদের বিরাট অং...</td>\n",
              "      <td>neutral</td>\n",
              "      <td>ষাটোর্ধ্বদের মৃত্যুঝুঁকি বেশি তাঁদের বিরাট অংশ...</td>\n",
              "      <td>16</td>\n",
              "      <td>16</td>\n",
              "    </tr>\n",
              "    <tr>\n",
              "      <th>4</th>\n",
              "      <td>এই টিকা নিলে এই হবে সেই হবে... পেট ব্যথায় মরে ...</td>\n",
              "      <td>positive</td>\n",
              "      <td>এই টিকা নিলে এই হবে সেই হবে পেট ব্যথায় মরে যাব...</td>\n",
              "      <td>18</td>\n",
              "      <td>18</td>\n",
              "    </tr>\n",
              "    <tr>\n",
              "      <th>5</th>\n",
              "      <td>টিকা নিয়ে আসলো,নাকি অন্যকোনো ভাইরাস নিয়া আসছে ...</td>\n",
              "      <td>neutral</td>\n",
              "      <td>টিকা নিয়ে আসলো নাকি অন্যকোনো ভাইরাস নিয়া আসছে ...</td>\n",
              "      <td>13</td>\n",
              "      <td>13</td>\n",
              "    </tr>\n",
              "    <tr>\n",
              "      <th>6</th>\n",
              "      <td>যারা এ টিকা গ্রহণ করবে তাদের করোনা থাকবে না কা...</td>\n",
              "      <td>positive</td>\n",
              "      <td>যারা এ টিকা গ্রহণ করবে তাদের করোনা থাকবে না কা...</td>\n",
              "      <td>13</td>\n",
              "      <td>13</td>\n",
              "    </tr>\n",
              "    <tr>\n",
              "      <th>7</th>\n",
              "      <td>ডোজ নিলে হয়তো করোনার থেকে রক্ষা পাওয়া যাবে.</td>\n",
              "      <td>positive</td>\n",
              "      <td>ডোজ নিলে হয়তো করোনার থেকে রক্ষা পাওয়া যাবে</td>\n",
              "      <td>8</td>\n",
              "      <td>8</td>\n",
              "    </tr>\n",
              "    <tr>\n",
              "      <th>8</th>\n",
              "      <td>মিটফোর্ড এলাকাতে নকল টিকা বানানোর প্রতিযোগিতা ...</td>\n",
              "      <td>negative</td>\n",
              "      <td>মিটফোর্ড এলাকাতে নকল টিকা বানানোর প্রতিযোগিতা ...</td>\n",
              "      <td>9</td>\n",
              "      <td>9</td>\n",
              "    </tr>\n",
              "    <tr>\n",
              "      <th>9</th>\n",
              "      <td>করোনার টিকা নকল হলেইতো নকলকারীরই লোকসান হবে। ক...</td>\n",
              "      <td>negative</td>\n",
              "      <td>করোনার টিকা নকল হলেইতো নকলকারীরই লোকসান হবে কে...</td>\n",
              "      <td>21</td>\n",
              "      <td>21</td>\n",
              "    </tr>\n",
              "    <tr>\n",
              "      <th>10</th>\n",
              "      <td>এখন করোনার টিকা নিতে কোনো সংশয় নেই</td>\n",
              "      <td>positive</td>\n",
              "      <td>এখন করোনার টিকা নিতে কোনো সংশয় নেই</td>\n",
              "      <td>7</td>\n",
              "      <td>7</td>\n",
              "    </tr>\n",
              "    <tr>\n",
              "      <th>11</th>\n",
              "      <td>অন্য দেশ যেখানে টিকা নেওয়ার জন্য প্রতিযোগিতা ...</td>\n",
              "      <td>negative</td>\n",
              "      <td>অন্য দেশ যেখানে টিকা নেওয়ার জন্য প্রতিযোগিতা ...</td>\n",
              "      <td>17</td>\n",
              "      <td>17</td>\n",
              "    </tr>\n",
              "    <tr>\n",
              "      <th>12</th>\n",
              "      <td>স্যালাইন দিয়ে বানানো টিকা প্রয়োগের জোর দাবি জা...</td>\n",
              "      <td>negative</td>\n",
              "      <td>স্যালাইন দিয়ে বানানো টিকা প্রয়োগের জোর দাবি জা...</td>\n",
              "      <td>8</td>\n",
              "      <td>8</td>\n",
              "    </tr>\n",
              "    <tr>\n",
              "      <th>13</th>\n",
              "      <td>নকল টিকা বানানোর হিড়িক পরে যেতে পারে</td>\n",
              "      <td>negative</td>\n",
              "      <td>নকল টিকা বানানোর হিড়িক পরে যেতে পারে</td>\n",
              "      <td>7</td>\n",
              "      <td>7</td>\n",
              "    </tr>\n",
              "    <tr>\n",
              "      <th>14</th>\n",
              "      <td>অধিকাংশ সাধারণ বাঙালি টিকা দেবেনা। যদিও দেয়, ...</td>\n",
              "      <td>negative</td>\n",
              "      <td>অধিকাংশ সাধারণ বাঙালি টিকা দেবেনা যদিও দেয় দে...</td>\n",
              "      <td>15</td>\n",
              "      <td>15</td>\n",
              "    </tr>\n",
              "    <tr>\n",
              "      <th>15</th>\n",
              "      <td>টিকা দিয়ে লাভ কি হবে।কয়দিন পর শুনবাশুধু স্যালা...</td>\n",
              "      <td>negative</td>\n",
              "      <td>টিকা দিয়ে লাভ কি হবে কয়দিন পর শুনবাশুধু স্যালা...</td>\n",
              "      <td>10</td>\n",
              "      <td>10</td>\n",
              "    </tr>\n",
              "    <tr>\n",
              "      <th>16</th>\n",
              "      <td>ছোট বেলায় যারা খালি ইঞ্জেকশনে পানি ভরতো, বড় হয়...</td>\n",
              "      <td>negative</td>\n",
              "      <td>ছোট বেলায় যারা খালি ইঞ্জেকশনে পানি ভরতো বড় হয়ে...</td>\n",
              "      <td>18</td>\n",
              "      <td>18</td>\n",
              "    </tr>\n",
              "    <tr>\n",
              "      <th>17</th>\n",
              "      <td>স্যালাইন এর সাথে মাম বিশুদ্ধ পানি কম্বাইন করে ...</td>\n",
              "      <td>negative</td>\n",
              "      <td>স্যালাইন এর সাথে মাম বিশুদ্ধ পানি কম্বাইন করে ...</td>\n",
              "      <td>21</td>\n",
              "      <td>21</td>\n",
              "    </tr>\n",
              "    <tr>\n",
              "      <th>18</th>\n",
              "      <td>যেখানে নকল নুনু পাওয়া যায় সেখানে টিকা তো সাধার...</td>\n",
              "      <td>negative</td>\n",
              "      <td>যেখানে নকল নুনু পাওয়া যায় সেখানে টিকা তো সাধার...</td>\n",
              "      <td>10</td>\n",
              "      <td>10</td>\n",
              "    </tr>\n",
              "    <tr>\n",
              "      <th>19</th>\n",
              "      <td>নকল টিকা আবিষ্কারকের পশ্চাতদেশে ৫৮ হাজার ডোজ এ...</td>\n",
              "      <td>negative</td>\n",
              "      <td>নকল টিকা আবিষ্কারকের পশ্চাতদেশে ৫৮ হাজার ডোজ এ...</td>\n",
              "      <td>11</td>\n",
              "      <td>11</td>\n",
              "    </tr>\n",
              "    <tr>\n",
              "      <th>20</th>\n",
              "      <td>টিকার কোন প্বার্শপ্রতিক্রিয়া নেই...\\nনির্ভয়ে ন...</td>\n",
              "      <td>positive</td>\n",
              "      <td>টিকার কোন প্বার্শপ্রতিক্রিয়া নেই নির্ভয়ে নেয়া ...</td>\n",
              "      <td>7</td>\n",
              "      <td>7</td>\n",
              "    </tr>\n",
              "    <tr>\n",
              "      <th>21</th>\n",
              "      <td>আমি আরো চিন্তিত ছিলাম এতো দিন কিরে কোনো নকল টি...</td>\n",
              "      <td>negative</td>\n",
              "      <td>আমি আরো চিন্তিত ছিলাম এতো দিন কিরে কোনো নকল টি...</td>\n",
              "      <td>14</td>\n",
              "      <td>14</td>\n",
              "    </tr>\n",
              "    <tr>\n",
              "      <th>22</th>\n",
              "      <td>বাংলাদেশেও মনে হয় এই টিকা দেওয়া হচ্ছে, এই জন্য...</td>\n",
              "      <td>negative</td>\n",
              "      <td>বাংলাদেশেও মনে হয় এই টিকা দেওয়া হচ্ছে এই জন্য ...</td>\n",
              "      <td>12</td>\n",
              "      <td>12</td>\n",
              "    </tr>\n",
              "    <tr>\n",
              "      <th>23</th>\n",
              "      <td>যেখানে সারা পৃথিবীর মানুষ করোনার জন্য প্রাণ ভয...</td>\n",
              "      <td>positive</td>\n",
              "      <td>যেখানে সারা পৃথিবীর মানুষ করোনার জন্য প্রাণ ভয...</td>\n",
              "      <td>24</td>\n",
              "      <td>24</td>\n",
              "    </tr>\n",
              "    <tr>\n",
              "      <th>24</th>\n",
              "      <td>মরে যাবো, তবুও টিকা নিবো না। দেখা গেলো ভুয়া টি...</td>\n",
              "      <td>negative</td>\n",
              "      <td>মরে যাবো তবুও টিকা নিবো না দেখা গেলো ভুয়া টিকা...</td>\n",
              "      <td>16</td>\n",
              "      <td>16</td>\n",
              "    </tr>\n",
              "    <tr>\n",
              "      <th>25</th>\n",
              "      <td>যে টিকা ফ্রি নিচ্ছেন সেটাও যে সেলাইন আর মিনারে...</td>\n",
              "      <td>negative</td>\n",
              "      <td>যে টিকা ফ্রি নিচ্ছেন সেটাও যে সেলাইন আর মিনারে...</td>\n",
              "      <td>16</td>\n",
              "      <td>16</td>\n",
              "    </tr>\n",
              "    <tr>\n",
              "      <th>26</th>\n",
              "      <td>কিছু নতুন উদ্দোক্তা বের হবে কিভাবে নকল টিকা সা...</td>\n",
              "      <td>negative</td>\n",
              "      <td>কিছু নতুন উদ্দোক্তা বের হবে কিভাবে নকল টিকা সা...</td>\n",
              "      <td>13</td>\n",
              "      <td>13</td>\n",
              "    </tr>\n",
              "    <tr>\n",
              "      <th>27</th>\n",
              "      <td>টিকা কার্যকরী। এর কোনো পার্শ্বপ্রতিক্রিয়া থাকব...</td>\n",
              "      <td>positive</td>\n",
              "      <td>টিকা কার্যকরী এর কোনো পার্শ্বপ্রতিক্রিয়া থাকবে...</td>\n",
              "      <td>10</td>\n",
              "      <td>10</td>\n",
              "    </tr>\n",
              "    <tr>\n",
              "      <th>28</th>\n",
              "      <td>স্যালাইন ও পানি দিয়ে বানানো নকল টিকা লাখ লাখ ড...</td>\n",
              "      <td>negative</td>\n",
              "      <td>স্যালাইন ও পানি দিয়ে বানানো নকল টিকা লাখ লাখ ড...</td>\n",
              "      <td>17</td>\n",
              "      <td>17</td>\n",
              "    </tr>\n",
              "    <tr>\n",
              "      <th>29</th>\n",
              "      <td>মেয়েরা এই টিকা নিলে নাকি মা,,হবার ক্ষমতা হারাবে</td>\n",
              "      <td>negative</td>\n",
              "      <td>মেয়েরা এই টিকা নিলে নাকি মা হবার ক্ষমতা হারাবে</td>\n",
              "      <td>9</td>\n",
              "      <td>9</td>\n",
              "    </tr>\n",
              "    <tr>\n",
              "      <th>30</th>\n",
              "      <td>এগুলোকে নকল না বলে পলিটিকাল টিকা বলেন। রাজনীতি...</td>\n",
              "      <td>negative</td>\n",
              "      <td>এগুলোকে নকল না বলে পলিটিকাল টিকা বলেন রাজনীতিব...</td>\n",
              "      <td>15</td>\n",
              "      <td>15</td>\n",
              "    </tr>\n",
              "    <tr>\n",
              "      <th>31</th>\n",
              "      <td>নতুন ধরনের টিকা আবিষ্কার করার জন্য তাকে নোবেল ...</td>\n",
              "      <td>positive</td>\n",
              "      <td>নতুন ধরনের টিকা আবিষ্কার করার জন্য তাকে নোবেল ...</td>\n",
              "      <td>10</td>\n",
              "      <td>10</td>\n",
              "    </tr>\n",
              "    <tr>\n",
              "      <th>32</th>\n",
              "      <td>এই জন্যেই বলি টিকা নিলেও যা না নিলেও তা</td>\n",
              "      <td>negative</td>\n",
              "      <td>এই জন্যেই বলি টিকা নিলেও যা না নিলেও তা</td>\n",
              "      <td>9</td>\n",
              "      <td>9</td>\n",
              "    </tr>\n",
              "    <tr>\n",
              "      <th>33</th>\n",
              "      <td>আমি বাঁইছা গেছি টিকা নেওয়ার পর আমার হালকা জ্বর...</td>\n",
              "      <td>negative</td>\n",
              "      <td>আমি বাঁইছা গেছি টিকা নেওয়ার পর আমার হালকা জ্বর...</td>\n",
              "      <td>13</td>\n",
              "      <td>13</td>\n",
              "    </tr>\n",
              "    <tr>\n",
              "      <th>34</th>\n",
              "      <td>তাইওয়ান চায়নার টিকা নিতে অস্বীকার করেছে</td>\n",
              "      <td>negative</td>\n",
              "      <td>তাইওয়ান চায়নার টিকা নিতে অস্বীকার করেছে</td>\n",
              "      <td>6</td>\n",
              "      <td>6</td>\n",
              "    </tr>\n",
              "    <tr>\n",
              "      <th>35</th>\n",
              "      <td>এখন আর নকল টিকার অভাব হবে না</td>\n",
              "      <td>negative</td>\n",
              "      <td>এখন আর নকল টিকার অভাব হবে না</td>\n",
              "      <td>7</td>\n",
              "      <td>7</td>\n",
              "    </tr>\n",
              "    <tr>\n",
              "      <th>36</th>\n",
              "      <td>স্বাস্থ্যমন্ত্রীকে কি স্যালাইন দিয়ে বানানো টিক...</td>\n",
              "      <td>negative</td>\n",
              "      <td>স্বাস্থ্যমন্ত্রীকে কি স্যালাইন দিয়ে বানানো টিক...</td>\n",
              "      <td>9</td>\n",
              "      <td>9</td>\n",
              "    </tr>\n",
              "    <tr>\n",
              "      <th>37</th>\n",
              "      <td>যে দেশে করোনার রিপোর্ট নকল হতে পারে,সেই দেশে ট...</td>\n",
              "      <td>negative</td>\n",
              "      <td>যে দেশে করোনার রিপোর্ট নকল হতে পারে সেই দেশে ট...</td>\n",
              "      <td>14</td>\n",
              "      <td>14</td>\n",
              "    </tr>\n",
              "    <tr>\n",
              "      <th>38</th>\n",
              "      <td>শুরু হয়ে গেছে নকল টিকা বানানোর কাজ এদেরকে কেন ...</td>\n",
              "      <td>negative</td>\n",
              "      <td>শুরু হয়ে গেছে নকল টিকা বানানোর কাজ এদেরকে কেন ...</td>\n",
              "      <td>12</td>\n",
              "      <td>12</td>\n",
              "    </tr>\n",
              "    <tr>\n",
              "      <th>39</th>\n",
              "      <td>এতোদিন করোনার ভুয়া সারটিফিকেট নিয়ে ব্যবস্যা কর...</td>\n",
              "      <td>negative</td>\n",
              "      <td>এতোদিন করোনার ভুয়া সারটিফিকেট নিয়ে ব্যবস্যা কর...</td>\n",
              "      <td>15</td>\n",
              "      <td>15</td>\n",
              "    </tr>\n",
              "    <tr>\n",
              "      <th>40</th>\n",
              "      <td>করোনার টিকা যদি সরকার মাঘনাও দেয় তাও দিবো না *...</td>\n",
              "      <td>negative</td>\n",
              "      <td>করোনার টিকা যদি সরকার মাঘনাও দেয় তাও দিবো না ক...</td>\n",
              "      <td>16</td>\n",
              "      <td>16</td>\n",
              "    </tr>\n",
              "    <tr>\n",
              "      <th>41</th>\n",
              "      <td>বাংলাদেশে যে টিকা দেয়া হচ্ছে সেটা যে আসল তার প...</td>\n",
              "      <td>neutral</td>\n",
              "      <td>বাংলাদেশে যে টিকা দেয়া হচ্ছে সেটা যে আসল তার প...</td>\n",
              "      <td>11</td>\n",
              "      <td>11</td>\n",
              "    </tr>\n",
              "    <tr>\n",
              "      <th>42</th>\n",
              "      <td>ভাবছিলাম কাল টিকা দিতে জামু  লাগবে না টিকা আমার</td>\n",
              "      <td>negative</td>\n",
              "      <td>ভাবছিলাম কাল টিকা দিতে জামু লাগবে না টিকা আমার</td>\n",
              "      <td>9</td>\n",
              "      <td>9</td>\n",
              "    </tr>\n",
              "    <tr>\n",
              "      <th>43</th>\n",
              "      <td>আগ্রহ প্রকাশ করে ছিলাম টিকা দেওয়ার জন্য, এখন ম...</td>\n",
              "      <td>negative</td>\n",
              "      <td>আগ্রহ প্রকাশ করে ছিলাম টিকা দেওয়ার জন্য এখন মি...</td>\n",
              "      <td>14</td>\n",
              "      <td>14</td>\n",
              "    </tr>\n",
              "    <tr>\n",
              "      <th>44</th>\n",
              "      <td>একটি টিকা দুই তিনজনকে পুশ করা হচ্ছে. যা অনেকেই...</td>\n",
              "      <td>negative</td>\n",
              "      <td>একটি টিকা দুই তিনজনকে পুশ করা হচ্ছে যা অনেকেই ...</td>\n",
              "      <td>10</td>\n",
              "      <td>10</td>\n",
              "    </tr>\n",
              "    <tr>\n",
              "      <th>45</th>\n",
              "      <td>আর কিছুদিন অপেক্ষা করলে ভারতের বেস্ট কোয়ালিটি...</td>\n",
              "      <td>positive</td>\n",
              "      <td>আর কিছুদিন অপেক্ষা করলে ভারতের বেস্ট কোয়ালিটি...</td>\n",
              "      <td>9</td>\n",
              "      <td>9</td>\n",
              "    </tr>\n",
              "    <tr>\n",
              "      <th>46</th>\n",
              "      <td>চীনের টীকায় এন্টিবডি সবচেয়ে বেশী, গবেষণায় প্রম...</td>\n",
              "      <td>positive</td>\n",
              "      <td>চীনের টীকায় এন্টিবডি সবচেয়ে বেশী গবেষণায় প্রমাণিত</td>\n",
              "      <td>7</td>\n",
              "      <td>7</td>\n",
              "    </tr>\n",
              "    <tr>\n",
              "      <th>47</th>\n",
              "      <td>চিনা টিকার কার্যকারিতা কম।শেষে\\nদেশে দেখা যাবে...</td>\n",
              "      <td>negative</td>\n",
              "      <td>চিনা টিকার কার্যকারিতা কম শেষে দেশে দেখা যাবে ...</td>\n",
              "      <td>12</td>\n",
              "      <td>12</td>\n",
              "    </tr>\n",
              "    <tr>\n",
              "      <th>48</th>\n",
              "      <td>আমার মতে যারা চীন কে সমর্থন দেয় তারা চীনের টি...</td>\n",
              "      <td>neutral</td>\n",
              "      <td>আমার মতে যারা চীন কে সমর্থন দেয় তারা চীনের টি...</td>\n",
              "      <td>22</td>\n",
              "      <td>22</td>\n",
              "    </tr>\n",
              "    <tr>\n",
              "      <th>49</th>\n",
              "      <td>করোনার টিকা কিভাবে আমাদের আগে পাকিস্তান উৎপাদন...</td>\n",
              "      <td>neutral</td>\n",
              "      <td>করোনার টিকা কিভাবে আমাদের আগে পাকিস্তান উৎপাদন...</td>\n",
              "      <td>8</td>\n",
              "      <td>8</td>\n",
              "    </tr>\n",
              "  </tbody>\n",
              "</table>\n",
              "</div>\n",
              "      <button class=\"colab-df-convert\" onclick=\"convertToInteractive('df-51a84b7d-e791-4e38-85bf-4eb42de9dbef')\"\n",
              "              title=\"Convert this dataframe to an interactive table.\"\n",
              "              style=\"display:none;\">\n",
              "        \n",
              "  <svg xmlns=\"http://www.w3.org/2000/svg\" height=\"24px\"viewBox=\"0 0 24 24\"\n",
              "       width=\"24px\">\n",
              "    <path d=\"M0 0h24v24H0V0z\" fill=\"none\"/>\n",
              "    <path d=\"M18.56 5.44l.94 2.06.94-2.06 2.06-.94-2.06-.94-.94-2.06-.94 2.06-2.06.94zm-11 1L8.5 8.5l.94-2.06 2.06-.94-2.06-.94L8.5 2.5l-.94 2.06-2.06.94zm10 10l.94 2.06.94-2.06 2.06-.94-2.06-.94-.94-2.06-.94 2.06-2.06.94z\"/><path d=\"M17.41 7.96l-1.37-1.37c-.4-.4-.92-.59-1.43-.59-.52 0-1.04.2-1.43.59L10.3 9.45l-7.72 7.72c-.78.78-.78 2.05 0 2.83L4 21.41c.39.39.9.59 1.41.59.51 0 1.02-.2 1.41-.59l7.78-7.78 2.81-2.81c.8-.78.8-2.07 0-2.86zM5.41 20L4 18.59l7.72-7.72 1.47 1.35L5.41 20z\"/>\n",
              "  </svg>\n",
              "      </button>\n",
              "      \n",
              "  <style>\n",
              "    .colab-df-container {\n",
              "      display:flex;\n",
              "      flex-wrap:wrap;\n",
              "      gap: 12px;\n",
              "    }\n",
              "\n",
              "    .colab-df-convert {\n",
              "      background-color: #E8F0FE;\n",
              "      border: none;\n",
              "      border-radius: 50%;\n",
              "      cursor: pointer;\n",
              "      display: none;\n",
              "      fill: #1967D2;\n",
              "      height: 32px;\n",
              "      padding: 0 0 0 0;\n",
              "      width: 32px;\n",
              "    }\n",
              "\n",
              "    .colab-df-convert:hover {\n",
              "      background-color: #E2EBFA;\n",
              "      box-shadow: 0px 1px 2px rgba(60, 64, 67, 0.3), 0px 1px 3px 1px rgba(60, 64, 67, 0.15);\n",
              "      fill: #174EA6;\n",
              "    }\n",
              "\n",
              "    [theme=dark] .colab-df-convert {\n",
              "      background-color: #3B4455;\n",
              "      fill: #D2E3FC;\n",
              "    }\n",
              "\n",
              "    [theme=dark] .colab-df-convert:hover {\n",
              "      background-color: #434B5C;\n",
              "      box-shadow: 0px 1px 3px 1px rgba(0, 0, 0, 0.15);\n",
              "      filter: drop-shadow(0px 1px 2px rgba(0, 0, 0, 0.3));\n",
              "      fill: #FFFFFF;\n",
              "    }\n",
              "  </style>\n",
              "\n",
              "      <script>\n",
              "        const buttonEl =\n",
              "          document.querySelector('#df-51a84b7d-e791-4e38-85bf-4eb42de9dbef button.colab-df-convert');\n",
              "        buttonEl.style.display =\n",
              "          google.colab.kernel.accessAllowed ? 'block' : 'none';\n",
              "\n",
              "        async function convertToInteractive(key) {\n",
              "          const element = document.querySelector('#df-51a84b7d-e791-4e38-85bf-4eb42de9dbef');\n",
              "          const dataTable =\n",
              "            await google.colab.kernel.invokeFunction('convertToInteractive',\n",
              "                                                     [key], {});\n",
              "          if (!dataTable) return;\n",
              "\n",
              "          const docLinkHtml = 'Like what you see? Visit the ' +\n",
              "            '<a target=\"_blank\" href=https://colab.research.google.com/notebooks/data_table.ipynb>data table notebook</a>'\n",
              "            + ' to learn more about interactive tables.';\n",
              "          element.innerHTML = '';\n",
              "          dataTable['output_type'] = 'display_data';\n",
              "          await google.colab.output.renderOutput(dataTable, element);\n",
              "          const docLink = document.createElement('div');\n",
              "          docLink.innerHTML = docLinkHtml;\n",
              "          element.appendChild(docLink);\n",
              "        }\n",
              "      </script>\n",
              "    </div>\n",
              "  </div>\n",
              "  "
            ]
          },
          "metadata": {},
          "execution_count": 18
        }
      ]
    },
    {
      "cell_type": "markdown",
      "metadata": {
        "id": "8KW2XN52Cqgd"
      },
      "source": [
        "Model Building Using Machine Learning\n",
        "Feature Extraction Using TF-IDF "
      ]
    },
    {
      "cell_type": "code",
      "metadata": {
        "id": "U8rCpkSuCvTb"
      },
      "source": [
        "#======================================\n",
        "                                            ##### Unigram Tf-idf value calculation\n",
        "                                            #======================================\n",
        "            \n",
        "def calc_gram_tfidf(reviews,gram):\n",
        "  \n",
        "    tfidf = TfidfVectorizer(ngram_range=gram,use_idf=True,tokenizer=lambda x: x.split()) \n",
        "    X = tfidf.fit_transform(reviews)\n",
        "    \n",
        "    return tfidf,X"
      ],
      "execution_count": null,
      "outputs": []
    },
    {
      "cell_type": "code",
      "metadata": {
        "id": "euFgQcJfCvRY"
      },
      "source": [
        "from sklearn.linear_model import LogisticRegression\n",
        "from sklearn.tree import DecisionTreeClassifier\n",
        "from sklearn.ensemble import RandomForestClassifier\n",
        "from sklearn.naive_bayes import MultinomialNB\n",
        "from sklearn.neighbors import KNeighborsClassifier\n",
        "from sklearn.svm import SVC\n",
        "from sklearn.linear_model import SGDClassifier\n",
        "from sklearn.metrics import classification_report,accuracy_score,precision_score,recall_score,f1_score\n",
        "from sklearn.metrics import roc_curve, roc_auc_score\n",
        "from sklearn.metrics import average_precision_score,roc_auc_score, roc_curve, precision_recall_curve"
      ],
      "execution_count": null,
      "outputs": []
    },
    {
      "cell_type": "code",
      "metadata": {
        "id": "_kA_X86jCvOe"
      },
      "source": [
        "#============================================\n",
        "                                              #########  Classifiers Defination  #########\n",
        "                                              #============================================\n",
        "def ml_models_defination(): \n",
        "    \n",
        "    lr_model = LogisticRegression(random_state = 123)\n",
        "    rf_model = RandomForestClassifier(n_estimators=100, criterion ='entropy', random_state = 0)\n",
        "    knn_model = KNeighborsClassifier(n_neighbors=3, metric = 'minkowski')\n",
        "    ksvm_model = SVC(C= 1000,kernel = 'rbf',probability=True, gamma = 0.00015, random_state = 0)\n",
        "    model_names = ['Logistic Regression','Random Forest','KNN','Kernel SVM']\n",
        "    ml_models = [lr_model,rf_model,knn_model,ksvm_model]\n",
        "    return ml_models,model_names \n",
        "\n",
        "\n",
        "                                          #============================================\n",
        "                                           ####### Model Evaluation Function ############\n",
        "                                           #=============================================\n",
        "\n",
        "def model_performace(model,X_train,X_test,y_train,y_test):\n",
        "    \n",
        "    my_dict = {}\n",
        "    model.fit(X_train,y_train)\n",
        "    # Prediction\n",
        "    pred_y = model.predict(X_test)\n",
        "    my_dict['Accuracy'] = round(accuracy_score(y_test, pred_y),4)*100 \n",
        "    my_dict['Precision'] = round(precision_score(y_test, pred_y,average = \"micro\"),4)*100 \n",
        "    my_dict['Recall'] = round(recall_score(y_test, pred_y,average = \"macro\"),4)*100 \n",
        "    my_dict['F1 Score'] = round(f1_score(y_test, pred_y,average = 'weighted'),4)*100 \n",
        "    \n",
        "    return my_dict  \n",
        "            \n",
        "def performance_table(performance_dict):\n",
        "    \n",
        "    acc_list = []\n",
        "    pr_list = []\n",
        "    re_list = []\n",
        "    f1_list = []\n",
        "    for i in performance_dict.keys():\n",
        "        acc_list.append(performance_dict[i]['Accuracy'])\n",
        "        pr_list.append(performance_dict[i]['Precision'])\n",
        "        re_list.append(performance_dict[i]['Recall'])\n",
        "        f1_list.append(performance_dict[i]['F1 Score'])\n",
        "\n",
        "    # Create a dataframe\n",
        "    model_names = ['Logistic Regression','Random Forest','KNN','Kernel SVM']\n",
        "    performance_df = pd.DataFrame({'Accuracy':acc_list,'Precision':pr_list,\n",
        "                                   'Recall':re_list,'F1 Score':f1_list,\n",
        "                                   'Model Name':model_names })\n",
        "    return performance_df"
      ],
      "execution_count": null,
      "outputs": []
    },
    {
      "cell_type": "markdown",
      "metadata": {
        "id": "y3TG8nDjC7St"
      },
      "source": [
        "\n",
        "Model Training"
      ]
    },
    {
      "cell_type": "code",
      "metadata": {
        "colab": {
          "base_uri": "https://localhost:8080/"
        },
        "id": "DdPHA6wZCvL9",
        "outputId": "d5527610-8a8e-4387-8525-58c37dc70558"
      },
      "source": [
        "## save the performance of the model for each gram feature \n",
        "gram_names = ['Unigram','Bigram','Trigram']\n",
        "ngrams = [(1,1),(1,2),(1,3)]\n",
        "for i,gram in enumerate(ngrams):\n",
        "    tfidf,feature = calc_gram_tfidf(dataset.cleaned,gram)\n",
        "    labels = label_encoding(dataset.sentiment,False)\n",
        "    X_train,X_test,y_train,y_test = dataset_split(feature,labels) \n",
        "    ml_models,model_names = ml_models_defination()\n",
        "    # call model accuracy function and save the metrices into a dictionary\n",
        "    accuracy = {f'{model_names[j]}':model_performace(model,X_train,X_test,y_train,y_test) for j,model in enumerate(ml_models)}\n",
        "    #Save the performance parameter into json file\n"
      ],
      "execution_count": null,
      "outputs": [
        {
          "output_type": "stream",
          "name": "stdout",
          "text": [
            "Feature Size :======> 2798\n",
            "\n",
            "Dataset Distribution:\n",
            "\n",
            "\tSet Name \t\tSize\n",
            "\t========\t\t======\n",
            "\tFull\t\t\t 1110 \n",
            "\tTraining\t\t 999 \n",
            "\tTest\t\t\t 111\n",
            "Feature Size :======> 10307\n",
            "\n",
            "Dataset Distribution:\n",
            "\n",
            "\tSet Name \t\tSize\n",
            "\t========\t\t======\n",
            "\tFull\t\t\t 1110 \n",
            "\tTraining\t\t 999 \n",
            "\tTest\t\t\t 111\n",
            "Feature Size :======> 18686\n",
            "\n",
            "Dataset Distribution:\n",
            "\n",
            "\tSet Name \t\tSize\n",
            "\t========\t\t======\n",
            "\tFull\t\t\t 1110 \n",
            "\tTraining\t\t 999 \n",
            "\tTest\t\t\t 111\n"
          ]
        }
      ]
    },
    {
      "cell_type": "code",
      "source": [
        "accuracy"
      ],
      "metadata": {
        "colab": {
          "base_uri": "https://localhost:8080/"
        },
        "id": "s7VCsSYp3nAh",
        "outputId": "ab1c04c6-6e98-4ffe-b8e8-fad63cdd1161"
      },
      "execution_count": null,
      "outputs": [
        {
          "output_type": "execute_result",
          "data": {
            "text/plain": [
              "{'Logistic Regression': {'Accuracy': 62.160000000000004,\n",
              "  'Precision': 62.160000000000004,\n",
              "  'Recall': 41.65,\n",
              "  'F1 Score': 54.96},\n",
              " 'Random Forest': {'Accuracy': 61.260000000000005,\n",
              "  'Precision': 61.260000000000005,\n",
              "  'Recall': 41.07,\n",
              "  'F1 Score': 54.53},\n",
              " 'KNN': {'Accuracy': 63.06,\n",
              "  'Precision': 63.06,\n",
              "  'Recall': 47.81,\n",
              "  'F1 Score': 61.9},\n",
              " 'Kernel SVM': {'Accuracy': 52.25,\n",
              "  'Precision': 52.25,\n",
              "  'Recall': 33.33,\n",
              "  'F1 Score': 35.870000000000005}}"
            ]
          },
          "metadata": {},
          "execution_count": 23
        }
      ]
    },
    {
      "cell_type": "markdown",
      "metadata": {
        "id": "Xwajp5egD8aK"
      },
      "source": [
        "Performance Table"
      ]
    },
    {
      "cell_type": "code",
      "metadata": {
        "colab": {
          "base_uri": "https://localhost:8080/"
        },
        "id": "z8XolJCPD9f-",
        "outputId": "54539035-a5b1-4367-c10c-ef0f60f77a7b"
      },
      "source": [
        "\n",
        "#Load all the json files\n",
        "gram_names = ['Unigram','Bigram','Trigram']\n",
        "\n",
        "for gram in gram_names:\n",
        "  table = performance_table(accuracy)\n",
        "  print(f\"\\n========== Performace Table for {gram} feature:========\\n\",table)\n",
        "  print(f\"\\n========In case of {gram} feature:========\\n\")\n",
        "  print(f\"Highest Accuracy achieved by {table['Model Name'][table.Accuracy.idxmax(axis = 0)]} at = {max(table.Accuracy)}\")\n",
        "  print(f\"Highest F1-Score achieved by {table['Model Name'][table['F1 Score'].idxmax(axis = 0)]} at = {max(table['F1 Score'] )}\")\n",
        "  print(f\"Highest Precision Score achieved by {table['Model Name'][table['Precision'].idxmax(axis = 0)]} at = {max(table['Precision'] )}\")\n",
        "  print(f\"Highest Recall Score achieved by {table['Model Name'][table['Recall'].idxmax(axis = 0)]} at = {max(table['Recall'] )}\")"
      ],
      "execution_count": null,
      "outputs": [
        {
          "output_type": "stream",
          "name": "stdout",
          "text": [
            "\n",
            "========== Performace Table for Unigram feature:========\n",
            "    Accuracy  Precision  Recall  F1 Score           Model Name\n",
            "0     62.16      62.16   41.65     54.96  Logistic Regression\n",
            "1     61.26      61.26   41.07     54.53        Random Forest\n",
            "2     63.06      63.06   47.81     61.90                  KNN\n",
            "3     52.25      52.25   33.33     35.87           Kernel SVM\n",
            "\n",
            "========In case of Unigram feature:========\n",
            "\n",
            "Highest Accuracy achieved by KNN at = 63.06\n",
            "Highest F1-Score achieved by KNN at = 61.9\n",
            "Highest Precision Score achieved by KNN at = 63.06\n",
            "Highest Recall Score achieved by KNN at = 47.81\n",
            "\n",
            "========== Performace Table for Bigram feature:========\n",
            "    Accuracy  Precision  Recall  F1 Score           Model Name\n",
            "0     62.16      62.16   41.65     54.96  Logistic Regression\n",
            "1     61.26      61.26   41.07     54.53        Random Forest\n",
            "2     63.06      63.06   47.81     61.90                  KNN\n",
            "3     52.25      52.25   33.33     35.87           Kernel SVM\n",
            "\n",
            "========In case of Bigram feature:========\n",
            "\n",
            "Highest Accuracy achieved by KNN at = 63.06\n",
            "Highest F1-Score achieved by KNN at = 61.9\n",
            "Highest Precision Score achieved by KNN at = 63.06\n",
            "Highest Recall Score achieved by KNN at = 47.81\n",
            "\n",
            "========== Performace Table for Trigram feature:========\n",
            "    Accuracy  Precision  Recall  F1 Score           Model Name\n",
            "0     62.16      62.16   41.65     54.96  Logistic Regression\n",
            "1     61.26      61.26   41.07     54.53        Random Forest\n",
            "2     63.06      63.06   47.81     61.90                  KNN\n",
            "3     52.25      52.25   33.33     35.87           Kernel SVM\n",
            "\n",
            "========In case of Trigram feature:========\n",
            "\n",
            "Highest Accuracy achieved by KNN at = 63.06\n",
            "Highest F1-Score achieved by KNN at = 61.9\n",
            "Highest Precision Score achieved by KNN at = 63.06\n",
            "Highest Recall Score achieved by KNN at = 47.81\n"
          ]
        }
      ]
    },
    {
      "cell_type": "markdown",
      "metadata": {
        "id": "x-mj0E17JJHK"
      },
      "source": [
        "Performance Visualization"
      ]
    },
    {
      "cell_type": "code",
      "metadata": {
        "colab": {
          "base_uri": "https://localhost:8080/",
          "height": 1000
        },
        "id": "4BeBHKVoCvJk",
        "outputId": "4a808cdd-3595-4135-cc3a-19233794d944"
      },
      "source": [
        "gram_names = ['Unigram','Bigram','Trigram']\n",
        "\n",
        "for gram in gram_names:\n",
        "  table = performance_table(accuracy)\n",
        "  df = pd.melt(table[['Accuracy','F1 Score','Model Name']], id_vars=\"Model Name\", var_name=\"Category\", value_name=\"Values\")\n",
        "  plt.figure(figsize=(8,6))\n",
        "  ax = plt.subplot()\n",
        "  sns.barplot(data=df,x='Model Name', y='Values' ,hue='Category')\n",
        "  ax.set_xlabel('Model Name') \n",
        "  ax.set_title(f'Comparison of Accuracy and F1-Score Value for {gram} Feature')\n",
        "  ax.set_ylim([10,80])\n",
        "  ax.xaxis.set_ticklabels(table['Model Name'], rotation=45);"
      ],
      "execution_count": null,
      "outputs": [
        {
          "output_type": "display_data",
          "data": {
            "text/plain": [
              "<Figure size 576x432 with 1 Axes>"
            ],
            "image/png": "[encoded data removed]"
          },
          "metadata": {}
        },
        {
          "output_type": "display_data",
          "data": {
            "text/plain": [
              "<Figure size 576x432 with 1 Axes>"
            ],
            "image/png": "[encoded data removed]"
          },
          "metadata": {}
        },
        {
          "output_type": "display_data",
          "data": {
            "text/plain": [
              "<Figure size 576x432 with 1 Axes>"
            ],
            "image/png": "[encoded data removed]"
          },
          "metadata": {}
        }
      ]
    }
  ]
}